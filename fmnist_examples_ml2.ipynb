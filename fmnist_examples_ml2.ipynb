{
 "cells": [
  {
   "cell_type": "markdown",
   "metadata": {},
   "source": [
    "# Load Data"
   ]
  },
  {
   "cell_type": "code",
   "execution_count": null,
   "metadata": {},
   "outputs": [],
   "source": [
    "import tensorflow as tf\n",
    "\n",
    "# Load the Fashion MNIST dataset\n",
    "fmnist = tf.keras.datasets.fashion_mnist\n",
    "(x_train, y_train), (x_test, y_test) = fmnist.load_data()\n",
    "\n",
    "# Normalize the data\n",
    "x_train, x_test = x_train / 255.0, x_test / 255.0"
   ]
  },
  {
   "cell_type": "markdown",
   "metadata": {},
   "source": [
    "## Data Prep"
   ]
  },
  {
   "cell_type": "code",
   "execution_count": null,
   "metadata": {},
   "outputs": [],
   "source": [
    "train_filter = (y_train == 7) | (y_train == 9)\n",
    "x_train_nn = x_train[train_filter]\n",
    "y_train_nn = y_train[train_filter]\n",
    "\n",
    "test_filter = (y_test == 7) | (y_test == 9)\n",
    "x_test_nn = x_test[test_filter]\n",
    "y_test_nn = y_test[test_filter]\n",
    "\n",
    "print(y_train_nn)\n",
    "y_train_nn_bin = (y_train_nn == 9).astype(int)\n",
    "y_test_nn_bin = (y_test_nn == 9).astype(int)\n",
    "print(y_train_nn_bin)"
   ]
  },
  {
   "cell_type": "markdown",
   "metadata": {},
   "source": [
    "## Plot Data"
   ]
  },
  {
   "cell_type": "code",
   "execution_count": null,
   "metadata": {},
   "outputs": [],
   "source": [
    "import matplotlib.pyplot as plt\n",
    "\n",
    "plt.figure(figsize=(10, 5))\n",
    "\n",
    "for i in range(8):\n",
    "    plt.subplot(2, 4, i + 1)\n",
    "    plt.imshow(x_train_nn[i], cmap='gray')\n",
    "    plt.title(f'Label: {y_train_nn_bin[i]}')\n",
    "    plt.axis('off')\n",
    "\n",
    "plt.show()"
   ]
  },
  {
   "cell_type": "code",
   "execution_count": null,
   "metadata": {},
   "outputs": [],
   "source": [
    "# Check the shape of the data\n",
    "# Each image is 28 x 28 pixels\n",
    "print(x_train_nn[1].shape)"
   ]
  },
  {
   "cell_type": "markdown",
   "metadata": {},
   "source": [
    "# CNN with Pytorth"
   ]
  },
  {
   "cell_type": "markdown",
   "metadata": {},
   "source": [
    "## Design the Model"
   ]
  },
  {
   "cell_type": "code",
   "execution_count": 5,
   "metadata": {},
   "outputs": [],
   "source": [
    "import torch\n",
    "from torch.utils.data import DataLoader, TensorDataset\n",
    "\n",
    "import torch.nn as nn\n",
    "import torch.optim as optim\n",
    "\n",
    "# Define the CNN model\n",
    "class CNN(nn.Module):\n",
    "    def __init__(self):\n",
    "        super(CNN, self).__init__()\n",
    "        self.conv1 = nn.Conv2d(1, 32, kernel_size=3)\n",
    "        self.pool = nn.MaxPool2d(kernel_size=2, stride=2)\n",
    "        self.conv2 = nn.Conv2d(32, 64, kernel_size=3)\n",
    "        self.fc1 = nn.Linear(64 * 5 * 5, 128)\n",
    "        self.fc2 = nn.Linear(128, 2)\n",
    "\n",
    "    def forward(self, x):\n",
    "        x = self.pool(torch.relu(self.conv1(x)))\n",
    "        x = self.pool(torch.relu(self.conv2(x)))\n",
    "        x = x.view(-1, 64 * 5 * 5)\n",
    "        x = torch.relu(self.fc1(x))\n",
    "        x = self.fc2(x)\n",
    "        return x\n"
   ]
  },
  {
   "cell_type": "markdown",
   "metadata": {},
   "source": [
    "## Data Prep"
   ]
  },
  {
   "cell_type": "code",
   "execution_count": 6,
   "metadata": {},
   "outputs": [],
   "source": [
    "# Convert the data to PyTorch tensors\n",
    "x_train_tensor = torch.tensor(x_train_nn.reshape(-1, 1, 28, 28), dtype=torch.float32)\n",
    "y_train_tensor = torch.tensor(y_train_nn_bin, dtype=torch.long)\n",
    "x_test_tensor = torch.tensor(x_test_nn.reshape(-1, 1, 28, 28), dtype=torch.float32)\n",
    "y_test_tensor = torch.tensor(y_test_nn_bin, dtype=torch.long)\n",
    "\n",
    "# Create DataLoader for training and testing\n",
    "train_dataset = TensorDataset(x_train_tensor, y_train_tensor)\n",
    "test_dataset = TensorDataset(x_test_tensor, y_test_tensor)\n",
    "train_loader = DataLoader(train_dataset, batch_size=64, shuffle=True)\n",
    "test_loader = DataLoader(test_dataset, batch_size=64, shuffle=False)"
   ]
  },
  {
   "cell_type": "markdown",
   "metadata": {},
   "source": [
    "## Fit the Model"
   ]
  },
  {
   "cell_type": "code",
   "execution_count": null,
   "metadata": {},
   "outputs": [],
   "source": [
    "# Initialize the model, loss function, and optimizer\n",
    "t_model = CNN()\n",
    "criterion = nn.CrossEntropyLoss()\n",
    "optimizer = optim.Adam(t_model.parameters(), lr=0.001)\n",
    "\n",
    "# Train the model\n",
    "num_epochs = 10\n",
    "for epoch in range(num_epochs):\n",
    "    t_model.train()\n",
    "    running_loss = 0.0\n",
    "    for inputs, labels in train_loader:\n",
    "        optimizer.zero_grad()\n",
    "        outputs = t_model(inputs)\n",
    "        loss = criterion(outputs, labels)\n",
    "        loss.backward()\n",
    "        optimizer.step()\n",
    "        running_loss += loss.item()\n",
    "    \n",
    "    # Calculate validation loss and accuracy\n",
    "    t_model.eval()\n",
    "    val_loss = 0.0\n",
    "    correct = 0\n",
    "    total = 0\n",
    "    with torch.no_grad():\n",
    "        for val_inputs, val_labels in test_loader:\n",
    "            val_outputs = t_model(val_inputs)\n",
    "            val_loss += criterion(val_outputs, val_labels).item()\n",
    "            _, predicted = torch.max(val_outputs, 1)\n",
    "            total += val_labels.size(0)\n",
    "            correct += (predicted == val_labels).sum().item()\n",
    "    \n",
    "    # Compute metrics\n",
    "    avg_train_loss = running_loss / len(train_loader)\n",
    "    avg_val_loss = val_loss / len(test_loader)\n",
    "    val_accuracy = correct / total\n",
    "    \n",
    "    # Print metrics rounded to 4 decimals\n",
    "    print(f'Epoch {epoch + 1}/{num_epochs}, '\n",
    "          f'Train Loss: {avg_train_loss:.4f}, '\n",
    "          f'Validation Loss: {avg_val_loss:.4f}, '\n",
    "          f'Validation Accuracy: {val_accuracy:.4f}')\n"
   ]
  },
  {
   "cell_type": "markdown",
   "metadata": {},
   "source": [
    "## Plot Confusion Matrix"
   ]
  },
  {
   "cell_type": "code",
   "execution_count": null,
   "metadata": {},
   "outputs": [],
   "source": [
    "import numpy as np\n",
    "from sklearn.metrics import confusion_matrix\n",
    "import seaborn as sns\n",
    "\n",
    "# Make predictions on the test set\n",
    "t_model.eval()\n",
    "test_predictions = []\n",
    "with torch.no_grad():\n",
    "    for inputs, labels in test_loader:\n",
    "        outputs = t_model(inputs)\n",
    "        _, predicted = torch.max(outputs.data, 1)\n",
    "        test_predictions.extend(predicted.numpy())\n",
    "\n",
    "# Convert predictions to numpy array\n",
    "test_predictions = np.array(test_predictions)\n",
    "\n",
    "# Compute the confusion matrix\n",
    "conf_matrix_torch = confusion_matrix(y_test_nn_bin, test_predictions)\n",
    "\n",
    "# Print the confusion matrix\n",
    "print(conf_matrix_torch)\n",
    "\n",
    "# Plot the confusion matrix with counts\n",
    "plt.figure(figsize=(8, 6))\n",
    "sns.heatmap(conf_matrix_torch, annot=True, fmt='d', xticklabels=[0, 1], yticklabels=[0, 1])\n",
    "plt.xlabel('Predicted')\n",
    "plt.ylabel('Actual')\n",
    "plt.title('Confusion Matrix with Counts (PyTorch Model)')\n",
    "plt.show()"
   ]
  },
  {
   "cell_type": "markdown",
   "metadata": {},
   "source": [
    "## Plot Misclassifications"
   ]
  },
  {
   "cell_type": "code",
   "execution_count": null,
   "metadata": {},
   "outputs": [],
   "source": [
    "# Find the indices of misclassified samples\n",
    "misclassified_indices_torch = [i for i in range(len(y_test_nn_bin)) if test_predictions[i] != y_test_nn_bin[i]]\n",
    "\n",
    "plt.figure(figsize=(10, 5))\n",
    "\n",
    "for i, idx in enumerate(misclassified_indices_torch[:10]):\n",
    "    plt.subplot(2, 5, i + 1)\n",
    "    plt.imshow(x_test_nn[idx], cmap='gray')\n",
    "    plt.title(f'True: {y_test_nn_bin[idx]}, Pred: {test_predictions[idx]}')\n",
    "    plt.axis('off')\n",
    "\n",
    "plt.show()"
   ]
  },
  {
   "cell_type": "markdown",
   "metadata": {},
   "source": [
    "# Data Transformations"
   ]
  },
  {
   "cell_type": "markdown",
   "metadata": {},
   "source": [
    "## Horizontal Flip"
   ]
  },
  {
   "cell_type": "code",
   "execution_count": null,
   "metadata": {},
   "outputs": [],
   "source": [
    "import random\n",
    "import torchvision.transforms as transforms\n",
    "\n",
    "# Define the transform to apply horizontal flip\n",
    "horizontal_flip_transform = transforms.Compose([\n",
    "    transforms.ToPILImage(),\n",
    "    transforms.RandomHorizontalFlip(p=0.5),  # 50% chance to apply the flip\n",
    "    transforms.ToTensor()\n",
    "])\n",
    "\n",
    "# Apply the horizontal flip transform to the selected indices\n",
    "x_train_nn_flipped = x_train_nn.copy()\n",
    "\n",
    "for idx in range(len(x_train_nn_flipped)):\n",
    "    x_train_nn_flipped[idx] = horizontal_flip_transform(x_train_nn_flipped[idx])\n",
    "\n",
    "# Plot the first 10 images\n",
    "plt.figure(figsize=(10, 5))\n",
    "\n",
    "for i in range(10):\n",
    "    plt.subplot(2, 5, i + 1)\n",
    "    plt.imshow(x_train_nn_flipped[i].reshape(28, 28), cmap='gray')\n",
    "    plt.title(f'Label: {y_train_nn_bin[i]}')\n",
    "    plt.axis('off')\n",
    "\n",
    "plt.show()"
   ]
  },
  {
   "cell_type": "markdown",
   "metadata": {},
   "source": [
    "## Shift"
   ]
  },
  {
   "cell_type": "code",
   "execution_count": null,
   "metadata": {},
   "outputs": [],
   "source": [
    "import numpy as np\n",
    "\n",
    "import matplotlib.pyplot as plt\n",
    "\n",
    "# Function to shift image pixels up or down\n",
    "def shift_image(image, shift):\n",
    "    return np.roll(image, shift, axis=0)\n",
    "\n",
    "# Create a copy of the data\n",
    "x_train_nn_shift = x_train_nn.copy()\n",
    "\n",
    "# Apply the shift to each image\n",
    "shifts = np.random.randint(-5, 6, size=x_train_nn.shape[0])\n",
    "for i, shift in enumerate(shifts):\n",
    "    x_train_nn_shift[i] = shift_image(x_train_nn[i], shift)\n",
    "\n",
    "# Plot original images next to shifted images\n",
    "plt.figure(figsize=(10, 5))\n",
    "\n",
    "for i in range(10):\n",
    "    # Plot original image\n",
    "    plt.subplot(2, 10, i + 1)\n",
    "    plt.imshow(x_train_nn[i].reshape(28, 28), cmap='gray')\n",
    "    plt.title(f'Orig: {y_train_nn[i]}')\n",
    "    plt.axis('off')\n",
    "    \n",
    "    # Plot shifted image\n",
    "    plt.subplot(2, 10, i + 11)\n",
    "    plt.imshow(x_train_nn_shift[i].reshape(28, 28), cmap='gray')\n",
    "    plt.title(f'Shift: {y_train_nn[i]}')\n",
    "    plt.axis('off')\n",
    "\n",
    "plt.show()"
   ]
  },
  {
   "cell_type": "markdown",
   "metadata": {},
   "source": [
    "## Shift Black"
   ]
  },
  {
   "cell_type": "code",
   "execution_count": null,
   "metadata": {},
   "outputs": [],
   "source": [
    "# Function to shift image pixels up or down and replace wrapped pixels with black pixels\n",
    "def shift_image_black(image, shift):\n",
    "    if shift > 0:\n",
    "        image[shift:] = image[:-shift]\n",
    "        image[:shift] = 0\n",
    "    elif shift < 0:\n",
    "        image[:shift] = image[-shift:]\n",
    "        image[shift:] = 0\n",
    "    return image\n",
    "\n",
    "# Create a copy of the data\n",
    "x_train_nn_shift_black = x_train_nn.copy()\n",
    "\n",
    "# Apply the shift to each image\n",
    "shifts = np.random.randint(-5, 6, size=x_train_nn.shape[0])\n",
    "for i, shift in enumerate(shifts):\n",
    "    x_train_nn_shift_black[i] = shift_image_black(x_train_nn_shift_black[i], shift)\n",
    "\n",
    "# Plot original images next to shifted images\n",
    "plt.figure(figsize=(10, 5))\n",
    "\n",
    "for i in range(10):\n",
    "    # Plot original image\n",
    "    plt.subplot(2, 10, i + 1)\n",
    "    plt.imshow(x_train_nn[i].reshape(28, 28), cmap='gray')\n",
    "    plt.title(f'Orig: {y_train_nn[i]}')\n",
    "    plt.axis('off')\n",
    "    \n",
    "    # Plot shifted image\n",
    "    plt.subplot(2, 10, i + 11)\n",
    "    plt.imshow(x_train_nn_shift_black[i].reshape(28, 28), cmap='gray')\n",
    "    plt.title(f'Shift: {y_train_nn[i]}')\n",
    "    plt.axis('off')\n",
    "\n",
    "plt.show()"
   ]
  },
  {
   "cell_type": "markdown",
   "metadata": {},
   "source": [
    "## Rotate"
   ]
  },
  {
   "cell_type": "code",
   "execution_count": null,
   "metadata": {},
   "outputs": [],
   "source": [
    "import numpy as np\n",
    "from PIL import Image\n",
    "import torchvision.transforms.functional as TF\n",
    "\n",
    "# Function to rotate image by a random angle\n",
    "def random_rotate(image):\n",
    "    # Convert NumPy array to PIL image\n",
    "    pil_image = Image.fromarray((image * 255).astype(np.uint8))  # Ensure the image is scaled to 0-255 and cast to uint8\n",
    "    # Apply random rotation\n",
    "    angle = np.random.uniform(-20, 20)\n",
    "    rotated_pil_image = TF.rotate(pil_image, angle)\n",
    "    # Convert back to NumPy array and normalize to the original range (e.g., 0-1 if originally normalized)\n",
    "    return np.array(rotated_pil_image) / 255.0  # Scale back to 0-1 range if necessary\n",
    "\n",
    "# Create a copy of the data\n",
    "x_train_nn_rotate = x_train_nn.copy()\n",
    "\n",
    "# Apply the random rotation to each image\n",
    "for i in range(x_train_nn_rotate.shape[0]):\n",
    "    x_train_nn_rotate[i] = random_rotate(x_train_nn_rotate[i])\n",
    "\n",
    "# Plot original images next to rotated images\n",
    "plt.figure(figsize=(10, 5))\n",
    "\n",
    "for i in range(10):\n",
    "    # Plot original image\n",
    "    plt.subplot(2, 10, i + 1)\n",
    "    plt.imshow(x_train_nn[i].reshape(28, 28), cmap='gray')\n",
    "    plt.title(f'Orig: {y_train_nn[i]}')\n",
    "    plt.axis('off')\n",
    "    \n",
    "    # Plot rotated image\n",
    "    plt.subplot(2, 10, i + 11)\n",
    "    plt.imshow(x_train_nn_rotate[i].reshape(28, 28), cmap='gray')\n",
    "    plt.title(f'Rot: {y_train_nn[i]}')\n",
    "    plt.axis('off')\n",
    "\n",
    "plt.show()"
   ]
  },
  {
   "cell_type": "markdown",
   "metadata": {},
   "source": [
    "## Combine Transformations"
   ]
  },
  {
   "cell_type": "code",
   "execution_count": null,
   "metadata": {},
   "outputs": [],
   "source": [
    "import random\n",
    "import numpy as np\n",
    "from PIL import Image\n",
    "\n",
    "import torchvision.transforms as transforms\n",
    "import matplotlib.pyplot as plt\n",
    "import torchvision.transforms.functional as TF\n",
    "\n",
    "# Define the combined transform function\n",
    "def combined_transform(image):\n",
    "    # Convert NumPy array to PIL image\n",
    "    pil_image = Image.fromarray((image * 255).astype(np.uint8))  # Ensure the image is scaled to 0-255 and cast to uint8\n",
    "    \n",
    "    # Apply horizontal flip with 50% probability\n",
    "    if random.random() > 0.5:\n",
    "        pil_image = TF.hflip(pil_image)\n",
    "    \n",
    "    # Apply random rotation\n",
    "    angle = np.random.uniform(-20, 20)\n",
    "    pil_image = TF.rotate(pil_image, angle)\n",
    "    \n",
    "    # Convert back to NumPy array and normalize to the original range (e.g., 0-1 if originally normalized)\n",
    "    image = np.array(pil_image) / 255.0  # Scale back to 0-1 range if necessary\n",
    "    \n",
    "    # Apply random vertical shift\n",
    "    shift = np.random.randint(-5, 6)\n",
    "    if shift > 0:\n",
    "        image[shift:] = image[:-shift]\n",
    "        image[:shift] = 0\n",
    "    elif shift < 0:\n",
    "        image[:shift] = image[-shift:]\n",
    "        image[shift:] = 0\n",
    "    \n",
    "    return image\n",
    "\n",
    "# Create a copy of the data\n",
    "x_train_nn_transformed = x_train_nn.copy()\n",
    "\n",
    "# Apply the combined transform to each image\n",
    "for i in range(x_train_nn_transformed.shape[0]):\n",
    "    x_train_nn_transformed[i] = combined_transform(x_train_nn_transformed[i])\n",
    "\n",
    "# Plot original images next to transformed images\n",
    "plt.figure(figsize=(10, 5))\n",
    "\n",
    "for i in range(10):\n",
    "    # Plot original image\n",
    "    plt.subplot(2, 10, i + 1)\n",
    "    plt.imshow(x_train_nn[i].reshape(28, 28), cmap='gray')\n",
    "    plt.title(f'Orig: {y_train_nn[i]}')\n",
    "    plt.axis('off')\n",
    "    \n",
    "    # Plot transformed image\n",
    "    plt.subplot(2, 10, i + 11)\n",
    "    plt.imshow(x_train_nn_transformed[i].reshape(28, 28), cmap='gray')\n",
    "    plt.title(f'Trans: {y_train_nn[i]}')\n",
    "    plt.axis('off')\n",
    "\n",
    "plt.show()"
   ]
  },
  {
   "cell_type": "markdown",
   "metadata": {},
   "source": [
    "## Data Transformations"
   ]
  },
  {
   "cell_type": "code",
   "execution_count": null,
   "metadata": {},
   "outputs": [],
   "source": [
    "import torch\n",
    "import torchvision.transforms as transforms\n",
    "from torchvision.datasets import FashionMNIST\n",
    "from torch.utils.data import DataLoader\n",
    "\n",
    "# Define data augmentation transformations\n",
    "train_mod = transforms.Compose([\n",
    "    transforms.RandomHorizontalFlip(p=0.5),   # Flip 50% of images\n",
    "    transforms.RandomRotation(degrees=10),    # Rotate within ±10 degrees\n",
    "    transforms.RandomAffine(degrees=0, translate=(0.1, 0.1)),  # Random translation\n",
    "    \n",
    "    transforms.ToTensor(),                     # Convert to tensor\n",
    "    transforms.Normalize((0.5,), (0.5,))       # Normalize to [-1, 1]\n",
    "])\n",
    "\n",
    "# Define data augmentation transformations\n",
    "test_mod = transforms.Compose([\n",
    "    transforms.ToTensor(),                     # Convert to tensor\n",
    "    transforms.Normalize((0.5,), (0.5,))       # Normalize to [-1, 1]\n",
    "])\n",
    "\n",
    "# Load the training dataset with augmentation\n",
    "train_dataset = FashionMNIST(root=\"./data\", train=True, transform=train_mod, download=True)\n",
    "\n",
    "# Filter the dataset to include only 7s and 9s\n",
    "train_indices = (train_dataset.targets == 7) | (train_dataset.targets == 9)\n",
    "train_dataset.targets = train_dataset.targets[train_indices]\n",
    "train_dataset.data = train_dataset.data[train_indices]\n",
    "\n",
    "# Convert labels to binary (0 for 7s and 1 for 9s)\n",
    "train_dataset.targets = (train_dataset.targets == 9).long()\n",
    "\n",
    "# Create DataLoader\n",
    "train_loader_mod = DataLoader(train_dataset, batch_size=64, shuffle=True)\n",
    "\n",
    "# Load Fashion MNIST test dataset\n",
    "test_dataset = FashionMNIST(root=\"./data\", train=False, transform=test_mod, download=True)\n",
    "\n",
    "# Filter the dataset to include only 7s and 9s\n",
    "test_indices = (test_dataset.targets == 7) | (test_dataset.targets == 9)\n",
    "test_dataset.targets = test_dataset.targets[test_indices]\n",
    "test_dataset.data = test_dataset.data[test_indices]\n",
    "\n",
    "# Convert labels to binary (0 for 7s and 1 for 9s)\n",
    "test_dataset.targets = (test_dataset.targets == 9).long()\n",
    "\n",
    "# Create DataLoader\n",
    "test_loader_mod = DataLoader(test_dataset, batch_size=64, shuffle=False)\n",
    "\n",
    "# Iterate over batches\n",
    "for images, labels in train_loader_mod:\n",
    "    # images now contain dynamically augmented data\n",
    "    print(images.shape, labels.shape)\n",
    "    break  # Checking one batch\n",
    "\n",
    "# Plot some of the transformed images\n",
    "plt.figure(figsize=(10, 5))\n",
    "\n",
    "for i in range(10):\n",
    "    plt.subplot(2, 5, i + 1)\n",
    "    plt.imshow(images[i].numpy().squeeze(), cmap='gray')\n",
    "    plt.title(f'Label: {labels[i].item()}')\n",
    "    plt.axis('off')\n",
    "\n",
    "plt.show()"
   ]
  },
  {
   "cell_type": "markdown",
   "metadata": {},
   "source": [
    "### Fit the CNN"
   ]
  },
  {
   "cell_type": "code",
   "execution_count": null,
   "metadata": {},
   "outputs": [],
   "source": [
    "# Initialize the model, loss function, and optimizer\n",
    "t_model3 = CNN()\n",
    "criterion = nn.CrossEntropyLoss()\n",
    "optimizer = optim.Adam(t_model3.parameters(), lr=0.001)\n",
    "\n",
    "# Train the model\n",
    "num_epochs = 10\n",
    "for epoch in range(num_epochs):\n",
    "    t_model3.train()\n",
    "    running_loss = 0.0\n",
    "    for inputs, labels in train_loader_mod:\n",
    "        optimizer.zero_grad()\n",
    "        outputs = t_model3(inputs)\n",
    "        loss = criterion(outputs, labels)\n",
    "        loss.backward()\n",
    "        optimizer.step()\n",
    "        running_loss += loss.item()\n",
    "    \n",
    "    # Calculate validation loss and accuracy\n",
    "    t_model3.eval()\n",
    "    val_loss = 0.0\n",
    "    correct = 0\n",
    "    total = 0\n",
    "    with torch.no_grad():\n",
    "        for val_inputs, val_labels in test_loader_mod:\n",
    "            val_outputs = t_model3(val_inputs)\n",
    "            val_loss += criterion(val_outputs, val_labels).item()\n",
    "            _, predicted = torch.max(val_outputs, 1)\n",
    "            total += val_labels.size(0)\n",
    "            correct += (predicted == val_labels).sum().item()\n",
    "    \n",
    "    # Compute metrics\n",
    "    avg_train_loss = running_loss / len(train_loader_mod)\n",
    "    avg_val_loss = val_loss / len(test_loader_mod)\n",
    "    val_accuracy = correct / total\n",
    "    \n",
    "    # Print metrics rounded to 4 decimals\n",
    "    print(f'Epoch {epoch + 1}/{num_epochs}, '\n",
    "          f'Train Loss: {avg_train_loss:.4f}, '\n",
    "          f'Validation Loss: {avg_val_loss:.4f}, '\n",
    "          f'Validation Accuracy: {val_accuracy:.4f}')"
   ]
  }
 ],
 "metadata": {
  "kernelspec": {
   "display_name": "rapids",
   "language": "python",
   "name": "python3"
  },
  "language_info": {
   "codemirror_mode": {
    "name": "ipython",
    "version": 3
   },
   "file_extension": ".py",
   "mimetype": "text/x-python",
   "name": "python",
   "nbconvert_exporter": "python",
   "pygments_lexer": "ipython3",
   "version": "3.12.8"
  }
 },
 "nbformat": 4,
 "nbformat_minor": 2
}
