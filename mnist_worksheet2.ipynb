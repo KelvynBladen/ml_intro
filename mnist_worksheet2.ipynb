{
 "cells": [
  {
   "cell_type": "markdown",
   "metadata": {},
   "source": [
    "# Load Data"
   ]
  },
  {
   "cell_type": "code",
   "execution_count": 6,
   "metadata": {},
   "outputs": [],
   "source": [
    "import tensorflow as tf\n",
    "\n",
    "# Load the Fashion MNIST dataset\n",
    "mnist = tf.keras.datasets.mnist\n",
    "(x_train, y_train), (x_test, y_test) = mnist.load_data()\n",
    "\n",
    "# Normalize the data\n",
    "x_train, x_test = x_train / 255.0, x_test / 255.0"
   ]
  },
  {
   "cell_type": "markdown",
   "metadata": {},
   "source": [
    "### Data Prep"
   ]
  },
  {
   "cell_type": "code",
   "execution_count": 7,
   "metadata": {},
   "outputs": [
    {
     "name": "stdout",
     "output_type": "stream",
     "text": [
      "Unique values in training labels: [0 1 2]\n",
      "Label distribution in training set: [6131 5421 5851]\n"
     ]
    }
   ],
   "source": [
    "import numpy as np\n",
    "\n",
    "train_filter = (y_train == 3) | (y_train == 5) | (y_train == 8)\n",
    "x_train_nn = x_train[train_filter]\n",
    "y_train_nn = y_train[train_filter]\n",
    "\n",
    "test_filter = (y_test == 3) | (y_test == 5) | (y_test == 8)\n",
    "x_test_nn = x_test[test_filter]\n",
    "y_test_nn = y_test[test_filter]\n",
    "\n",
    "# Convert to categorical labels:\n",
    "# 3 -> 0, 5 -> 1, 8 -> 2\n",
    "y_train_nn_bin = ((y_train_nn == 5).astype(int) + 2 * (y_train_nn == 8).astype(int))\n",
    "y_test_nn_bin = ((y_test_nn == 5).astype(int) + 2 * (y_test_nn == 8).astype(int))\n",
    "\n",
    "print(\"Unique values in training labels:\", np.unique(y_train_nn_bin))\n",
    "print(\"Label distribution in training set:\", np.bincount(y_train_nn_bin))\n",
    "\n"
   ]
  },
  {
   "cell_type": "markdown",
   "metadata": {},
   "source": [
    "### Plot Data"
   ]
  },
  {
   "cell_type": "code",
   "execution_count": 8,
   "metadata": {},
   "outputs": [
    {
     "data": {
      "image/png": "[encoded data removed]",
      "text/plain": [
       "<Figure size 1000x800 with 6 Axes>"
      ]
     },
     "metadata": {},
     "output_type": "display_data"
    }
   ],
   "source": [
    "## Plot 6 to 10 images from your data\n",
    "\n",
    "'Your code here'\n",
    "import matplotlib.pyplot as plt\n",
    "\n",
    "fig, axes = plt.subplots(2, 3, figsize=(10, 8))\n",
    "for i, ax in enumerate(axes.flat):\n",
    "    if i < 6:\n",
    "        ax.imshow(x_train_nn[i], cmap='gray')\n",
    "        ax.set_title(f'Label: {y_train_nn[i]}')\n",
    "        ax.axis('off')\n",
    "plt.tight_layout()\n",
    "plt.show()"
   ]
  },
  {
   "cell_type": "markdown",
   "metadata": {},
   "source": [
    "# CNN with Pytorth"
   ]
  },
  {
   "cell_type": "markdown",
   "metadata": {},
   "source": [
    "### Design the CNN Model"
   ]
  },
  {
   "cell_type": "code",
   "execution_count": 9,
   "metadata": {},
   "outputs": [],
   "source": [
    "# Define the CNN model\n",
    "import torch\n",
    "from torch.utils.data import DataLoader, TensorDataset\n",
    "\n",
    "import torch.nn as nn\n",
    "import torch.optim as optim\n",
    "class CNN(nn.Module):\n",
    "    def __init__(self):\n",
    "        super(CNN, self).__init__()\n",
    "        self.conv1 = nn.Conv2d(1, 32, kernel_size=3)\n",
    "        self.pool = nn.MaxPool2d(kernel_size=2, stride=2)\n",
    "        self.conv2 = nn.Conv2d(32, 64, kernel_size=3)\n",
    "        self.fc1 = nn.Linear(64 * 5 * 5, 128)\n",
    "        self.fc2 = nn.Linear(128, 3)\n",
    "\n",
    "    def forward(self, x):\n",
    "        x = self.pool(torch.relu(self.conv1(x)))\n",
    "        x = self.pool(torch.relu(self.conv2(x)))\n",
    "        x = x.view(-1, 64 * 5 * 5)\n",
    "        x = torch.relu(self.fc1(x))\n",
    "        x = self.fc2(x)\n",
    "        return x.to('cuda' if torch.cuda.is_available() else 'cpu')\n"
   ]
  },
  {
   "cell_type": "markdown",
   "metadata": {},
   "source": [
    "### Data Prep"
   ]
  },
  {
   "cell_type": "code",
   "execution_count": 10,
   "metadata": {},
   "outputs": [],
   "source": [
    "# Convert the data to PyTorch tensors\n",
    "x_train_tensor = torch.tensor(x_train_nn.reshape(-1, 1, 28, 28), dtype=torch.float32)\n",
    "y_train_tensor = torch.tensor(y_train_nn_bin, dtype=torch.long)\n",
    "x_test_tensor = torch.tensor(x_test_nn.reshape(-1, 1, 28, 28), dtype=torch.float32)\n",
    "y_test_tensor = torch.tensor(y_test_nn_bin, dtype=torch.long)\n",
    "\n",
    "# Create DataLoader for training and testing\n",
    "train_dataset = TensorDataset(x_train_tensor, y_train_tensor)\n",
    "test_dataset = TensorDataset(x_test_tensor, y_test_tensor)\n",
    "train_loader = DataLoader(train_dataset, batch_size=64, shuffle=True)\n",
    "test_loader = DataLoader(test_dataset, batch_size=64, shuffle=False)"
   ]
  },
  {
   "cell_type": "markdown",
   "metadata": {},
   "source": [
    "### Fit the CNN"
   ]
  },
  {
   "cell_type": "code",
   "execution_count": 11,
   "metadata": {},
   "outputs": [
    {
     "name": "stdout",
     "output_type": "stream",
     "text": [
      "Epoch 1/10, Train Loss: 0.1355, Validation Loss: 0.0536, Validation Accuracy: 0.9795\n",
      "Epoch 2/10, Train Loss: 0.0305, Validation Loss: 0.0179, Validation Accuracy: 0.9941\n",
      "Epoch 3/10, Train Loss: 0.0192, Validation Loss: 0.0145, Validation Accuracy: 0.9944\n",
      "Epoch 4/10, Train Loss: 0.0144, Validation Loss: 0.0144, Validation Accuracy: 0.9951\n",
      "Epoch 5/10, Train Loss: 0.0120, Validation Loss: 0.0172, Validation Accuracy: 0.9937\n",
      "Epoch 6/10, Train Loss: 0.0090, Validation Loss: 0.0150, Validation Accuracy: 0.9944\n",
      "Epoch 7/10, Train Loss: 0.0072, Validation Loss: 0.0142, Validation Accuracy: 0.9958\n",
      "Epoch 8/10, Train Loss: 0.0041, Validation Loss: 0.0177, Validation Accuracy: 0.9941\n",
      "Epoch 9/10, Train Loss: 0.0046, Validation Loss: 0.0145, Validation Accuracy: 0.9955\n",
      "Epoch 10/10, Train Loss: 0.0037, Validation Loss: 0.0169, Validation Accuracy: 0.9944\n"
     ]
    }
   ],
   "source": [
    "# Initialize the model, loss function, and optimizer\n",
    "device = torch.device('cuda' if torch.cuda.is_available() else 'cpu')\n",
    "t_model = CNN().to(device)\n",
    "criterion = nn.CrossEntropyLoss()\n",
    "optimizer = optim.Adam(t_model.parameters(), lr=0.001)\n",
    "\n",
    "# Train the model\n",
    "num_epochs = 10\n",
    "for epoch in range(num_epochs):\n",
    "    t_model.train()\n",
    "    running_loss = 0.0\n",
    "    for inputs, labels in train_loader:\n",
    "        inputs = inputs.to(device)\n",
    "        labels = labels.to(device)\n",
    "        \n",
    "        optimizer.zero_grad()\n",
    "        outputs = t_model(inputs)\n",
    "        loss = criterion(outputs, labels)\n",
    "        loss.backward()\n",
    "        optimizer.step()\n",
    "        running_loss += loss.item()\n",
    "    \n",
    "    # Calculate validation loss and accuracy\n",
    "    t_model.eval()\n",
    "    val_loss = 0.0\n",
    "    correct = 0\n",
    "    total = 0\n",
    "    with torch.no_grad():\n",
    "        for val_inputs, val_labels in test_loader:\n",
    "            val_inputs = val_inputs.to(device)\n",
    "            val_labels = val_labels.to(device)\n",
    "            \n",
    "            val_outputs = t_model(val_inputs)\n",
    "            val_loss += criterion(val_outputs, val_labels).item()\n",
    "            _, predicted = torch.max(val_outputs, 1)\n",
    "            total += val_labels.size(0)\n",
    "            correct += (predicted == val_labels).sum().item()\n",
    "    \n",
    "    # Compute metrics\n",
    "    avg_train_loss = running_loss / len(train_loader)\n",
    "    avg_val_loss = val_loss / len(test_loader)\n",
    "    val_accuracy = correct / total\n",
    "    \n",
    "    # Print metrics rounded to 4 decimals\n",
    "    print(f'Epoch {epoch + 1}/{num_epochs}, '\n",
    "          f'Train Loss: {avg_train_loss:.4f}, '\n",
    "          f'Validation Loss: {avg_val_loss:.4f}, '\n",
    "          f'Validation Accuracy: {val_accuracy:.4f}')\n"
   ]
  },
  {
   "cell_type": "code",
   "execution_count": null,
   "metadata": {},
   "outputs": [],
   "source": []
  },
  {
   "cell_type": "markdown",
   "metadata": {},
   "source": [
    "### Plot Confusion Matrix"
   ]
  },
  {
   "cell_type": "code",
   "execution_count": 12,
   "metadata": {},
   "outputs": [
    {
     "name": "stdout",
     "output_type": "stream",
     "text": [
      "[[999   8   3]\n",
      " [  4 887   1]\n",
      " [  0   0 974]]\n"
     ]
    },
    {
     "data": {
      "image/png": "[encoded data removed]",
      "text/plain": [
       "<Figure size 800x600 with 2 Axes>"
      ]
     },
     "metadata": {},
     "output_type": "display_data"
    }
   ],
   "source": [
    "import numpy as np\n",
    "from sklearn.metrics import confusion_matrix\n",
    "import seaborn as sns\n",
    "\n",
    "# Make predictions on the test set\n",
    "t_model.eval()\n",
    "test_predictions = []\n",
    "with torch.no_grad():\n",
    "    for inputs, labels in test_loader:\n",
    "        inputs = inputs.to(device)  # Move inputs to the same device as the model\n",
    "        outputs = t_model(inputs)\n",
    "        _, predicted = torch.max(outputs.data, 1)\n",
    "        test_predictions.extend(predicted.cpu().numpy())  # Move predictions back to CPU before converting to numpy\n",
    "\n",
    "# Convert predictions to numpy array\n",
    "test_predictions = np.array(test_predictions)\n",
    "\n",
    "# Compute the confusion matrix\n",
    "conf_matrix_torch = confusion_matrix(y_test_nn_bin, test_predictions)\n",
    "\n",
    "# Print the confusion matrix\n",
    "print(conf_matrix_torch)\n",
    "\n",
    "# Plot the confusion matrix with counts\n",
    "plt.figure(figsize=(8, 6))\n",
    "sns.heatmap(conf_matrix_torch, annot=True, fmt='d', xticklabels=[3,5,8], yticklabels=[3,5,8])\n",
    "plt.xlabel('Predicted')\n",
    "plt.ylabel('Actual')\n",
    "plt.title('Confusion Matrix with Counts (PyTorch Model)')\n",
    "plt.show()"
   ]
  },
  {
   "cell_type": "markdown",
   "metadata": {},
   "source": [
    "### Plot Misclassifications"
   ]
  },
  {
   "cell_type": "code",
   "execution_count": 13,
   "metadata": {},
   "outputs": [
    {
     "data": {
      "image/png": "[encoded data removed]",
      "text/plain": [
       "<Figure size 1000x500 with 10 Axes>"
      ]
     },
     "metadata": {},
     "output_type": "display_data"
    }
   ],
   "source": [
    "# Create a mapping dictionary for label conversion\n",
    "label_map = {0: 3, 1: 5, 2: 8}\n",
    "\n",
    "# Find the indices of misclassified samples\n",
    "misclassified_indices_torch = [i for i in range(len(y_test_nn_bin)) if test_predictions[i] != y_test_nn_bin[i]]\n",
    "\n",
    "plt.figure(figsize=(10, 5))\n",
    "\n",
    "for i, idx in enumerate(misclassified_indices_torch[:10]):\n",
    "    plt.subplot(2, 5, i + 1)\n",
    "    plt.imshow(x_test_nn[idx], cmap='gray')\n",
    "    true_label = label_map[y_test_nn_bin[idx]]\n",
    "    pred_label = label_map[test_predictions[idx]]\n",
    "    plt.title(f'True: {true_label}, Pred: {pred_label}')\n",
    "    plt.axis('off')\n",
    "\n",
    "plt.show()"
   ]
  },
  {
   "cell_type": "markdown",
   "metadata": {},
   "source": [
    "# CNN with Transformations"
   ]
  },
  {
   "cell_type": "markdown",
   "metadata": {},
   "source": [
    "### Data Transformations"
   ]
  },
  {
   "cell_type": "code",
   "execution_count": 14,
   "metadata": {},
   "outputs": [
    {
     "data": {
      "image/png": "[encoded data removed]",
      "text/plain": [
       "<Figure size 1000x800 with 6 Axes>"
      ]
     },
     "metadata": {},
     "output_type": "display_data"
    }
   ],
   "source": [
    "from torchvision.datasets import MNIST\n",
    "\n",
    "import torchvision.transforms as transforms\n",
    "\n",
    "# Define test transformation (no augmentation for test data)\n",
    "test_mod = transforms.Compose([\n",
    "    transforms.ToTensor(),\n",
    "    transforms.Normalize((0.5,), (0.5,))\n",
    "])\n",
    "\n",
    "# Define data augmentation transformations for training\n",
    "train_mod = transforms.Compose([\n",
    "    transforms.RandomRotation(10),\n",
    "    transforms.RandomAffine(0, translate=(0.1, 0.1)),\n",
    "    transforms.ToTensor(),\n",
    "    transforms.Normalize((0.5,), (0.5,))\n",
    "])\n",
    "\n",
    "# Define label mapping function for 3,5,8\n",
    "def map_labels(target):\n",
    "    if isinstance(target, torch.Tensor):\n",
    "        return ((target == 5).long() + 2 * (target == 8).long())\n",
    "    return ((target == 5).astype(int) + 2 * (target == 8).astype(int))\n",
    "\n",
    "# Custom dataset class to handle label mapping\n",
    "class FilteredMNIST(MNIST):\n",
    "    def __init__(self, root, train=True, transform=None, target_transform=None, download=True):\n",
    "        super().__init__(root, train, transform, target_transform, download)\n",
    "        # Filter for digits 3, 5, and 8\n",
    "        mask = (self.targets == 3) | (self.targets == 5) | (self.targets == 8)\n",
    "        self.data = self.data[mask]\n",
    "        self.targets = self.targets[mask]\n",
    "        # Map labels: 3->0, 5->1, 8->2\n",
    "        self.targets = map_labels(self.targets)\n",
    "\n",
    "# Create datasets\n",
    "train_dataset = FilteredMNIST(root=\"./data\", train=True, transform=train_mod, download=True)\n",
    "test_dataset = FilteredMNIST(root=\"./data\", train=False, transform=test_mod, download=True)\n",
    "\n",
    "# Create data loaders\n",
    "train_loader = torch.utils.data.DataLoader(train_dataset, batch_size=64, shuffle=True)\n",
    "test_loader = torch.utils.data.DataLoader(test_dataset, batch_size=64, shuffle=False)\n",
    "\n",
    "# Plot some transformed training images\n",
    "plt.figure(figsize=(10, 8))\n",
    "dataiter = iter(train_loader)\n",
    "images, labels = next(dataiter)\n",
    "\n",
    "# Create label map for display\n",
    "label_map = {0: 3, 1: 5, 2: 8}\n",
    "\n",
    "for i in range(6):\n",
    "    plt.subplot(2, 3, i + 1)\n",
    "    img = images[i].squeeze().numpy()\n",
    "    plt.imshow(img, cmap='gray')\n",
    "    plt.title(f'Label: {label_map[labels[i].item()]}')\n",
    "    plt.axis('off')\n",
    "plt.tight_layout()\n",
    "plt.show()"
   ]
  },
  {
   "cell_type": "markdown",
   "metadata": {},
   "source": [
    "### Fit the CNN"
   ]
  },
  {
   "cell_type": "code",
   "execution_count": 16,
   "metadata": {},
   "outputs": [
    {
     "name": "stdout",
     "output_type": "stream",
     "text": [
      "Epoch 1/10, Train Loss: 0.2185, Validation Loss: 0.0185, Validation Accuracy: 0.9944\n",
      "Epoch 2/10, Train Loss: 0.0696, Validation Loss: 0.0186, Validation Accuracy: 0.9934\n",
      "Epoch 3/10, Train Loss: 0.0504, Validation Loss: 0.0131, Validation Accuracy: 0.9955\n",
      "Epoch 4/10, Train Loss: 0.0394, Validation Loss: 0.0131, Validation Accuracy: 0.9948\n",
      "Epoch 5/10, Train Loss: 0.0372, Validation Loss: 0.0183, Validation Accuracy: 0.9934\n",
      "Epoch 6/10, Train Loss: 0.0309, Validation Loss: 0.0179, Validation Accuracy: 0.9920\n",
      "Epoch 7/10, Train Loss: 0.0264, Validation Loss: 0.0133, Validation Accuracy: 0.9948\n",
      "Epoch 8/10, Train Loss: 0.0249, Validation Loss: 0.0126, Validation Accuracy: 0.9955\n",
      "Epoch 9/10, Train Loss: 0.0247, Validation Loss: 0.0115, Validation Accuracy: 0.9951\n",
      "Epoch 10/10, Train Loss: 0.0238, Validation Loss: 0.0104, Validation Accuracy: 0.9958\n"
     ]
    }
   ],
   "source": [
    "# Initialize the model, loss function, and optimizer\n",
    "device = torch.device('cuda' if torch.cuda.is_available() else 'cpu')\n",
    "t_model_aug = CNN().to(device)\n",
    "criterion = nn.CrossEntropyLoss()\n",
    "optimizer = optim.Adam(t_model_aug.parameters(), lr=0.001)\n",
    "\n",
    "# Train the model\n",
    "num_epochs = 10\n",
    "for epoch in range(num_epochs):\n",
    "    t_model_aug.train()\n",
    "    running_loss = 0.0\n",
    "    for inputs, labels in train_loader:\n",
    "        inputs = inputs.to(device)\n",
    "        labels = labels.to(device)\n",
    "        \n",
    "        optimizer.zero_grad()\n",
    "        outputs = t_model_aug(inputs)\n",
    "        loss = criterion(outputs, labels)\n",
    "        loss.backward()\n",
    "        optimizer.step()\n",
    "        running_loss += loss.item()\n",
    "    \n",
    "    # Calculate validation loss and accuracy\n",
    "    t_model_aug.eval()\n",
    "    val_loss = 0.0\n",
    "    correct = 0\n",
    "    total = 0\n",
    "    with torch.no_grad():\n",
    "        for val_inputs, val_labels in test_loader:\n",
    "            val_inputs = val_inputs.to(device)\n",
    "            val_labels = val_labels.to(device)\n",
    "            \n",
    "            val_outputs = t_model_aug(val_inputs)\n",
    "            val_loss += criterion(val_outputs, val_labels).item()\n",
    "            _, predicted = torch.max(val_outputs, 1)\n",
    "            total += val_labels.size(0)\n",
    "            correct += (predicted == val_labels).sum().item()\n",
    "    \n",
    "    # Compute metrics\n",
    "    avg_train_loss = running_loss / len(train_loader)\n",
    "    avg_val_loss = val_loss / len(test_loader)\n",
    "    val_accuracy = correct / total\n",
    "    \n",
    "    print(f'Epoch {epoch + 1}/{num_epochs}, '\n",
    "          f'Train Loss: {avg_train_loss:.4f}, '\n",
    "          f'Validation Loss: {avg_val_loss:.4f}, '\n",
    "          f'Validation Accuracy: {val_accuracy:.4f}')\n",
    "\n",
    "# this one actually seems to do slightly better than the first one, if not the same"
   ]
  }
 ],
 "metadata": {
  "kernelspec": {
   "display_name": "Python 3",
   "language": "python",
   "name": "python3"
  },
  "language_info": {
   "codemirror_mode": {
    "name": "ipython",
    "version": 3
   },
   "file_extension": ".py",
   "mimetype": "text/x-python",
   "name": "python",
   "nbconvert_exporter": "python",
   "pygments_lexer": "ipython3",
   "version": "3.12.0"
  }
 },
 "nbformat": 4,
 "nbformat_minor": 2
}
