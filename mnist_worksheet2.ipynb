{
 "cells": [
  {
   "cell_type": "markdown",
   "metadata": {},
   "source": [
    "# Load Data"
   ]
  },
  {
   "cell_type": "code",
   "execution_count": 1,
   "metadata": {},
   "outputs": [
    {
     "name": "stdout",
     "output_type": "stream",
     "text": [
      "WARNING:tensorflow:From c:\\Users\\kelvy\\anaconda3\\envs\\stat5810\\Lib\\site-packages\\keras\\src\\losses.py:2976: The name tf.losses.sparse_softmax_cross_entropy is deprecated. Please use tf.compat.v1.losses.sparse_softmax_cross_entropy instead.\n",
      "\n"
     ]
    }
   ],
   "source": [
    "import tensorflow as tf\n",
    "\n",
    "# Load the Fashion MNIST dataset\n",
    "mnist = tf.keras.datasets.mnist\n",
    "(x_train, y_train), (x_test, y_test) = mnist.load_data()\n",
    "\n",
    "# Normalize the data\n",
    "x_train, x_test = x_train / 255.0, x_test / 255.0"
   ]
  },
  {
   "cell_type": "markdown",
   "metadata": {},
   "source": [
    "## Data Prep"
   ]
  },
  {
   "cell_type": "code",
   "execution_count": 2,
   "metadata": {},
   "outputs": [
    {
     "data": {
      "text/plain": [
       "'Your code here'"
      ]
     },
     "execution_count": 2,
     "metadata": {},
     "output_type": "execute_result"
    }
   ],
   "source": [
    "# Subset your data the same 3 digit classes you used in the Random Forest problem from the last assignment.\n",
    "\n",
    "# Again, You can totally copy any code over from the fmnist_examples notebook and modify it.\n",
    "# You can use chatGPT, copilot, google, or other AI or online resources.\n",
    "# Use each other, the goal is to complete the objectives and maybe learn something new, not to struggle to make up code on your own.\n",
    "# We have prior notebooks, chatGPT, the internet, and each other for the rapids projects, so use them here if they will help!\n",
    "\n",
    "# Extract the 3 classes from the training data\n",
    "\n",
    "'Your code here'\n",
    "\n",
    "# Extract the 3 classes from the test data\n",
    "\n",
    "'Your code here'\n"
   ]
  },
  {
   "cell_type": "markdown",
   "metadata": {},
   "source": [
    "## Plot Data"
   ]
  },
  {
   "cell_type": "code",
   "execution_count": 3,
   "metadata": {},
   "outputs": [
    {
     "data": {
      "text/plain": [
       "'Your code here'"
      ]
     },
     "execution_count": 3,
     "metadata": {},
     "output_type": "execute_result"
    }
   ],
   "source": [
    "## Plot 6 to 10 images from your data\n",
    "\n",
    "'Your code here'\n"
   ]
  },
  {
   "cell_type": "markdown",
   "metadata": {},
   "source": [
    "# CNN with Pytorth"
   ]
  },
  {
   "cell_type": "markdown",
   "metadata": {},
   "source": [
    "## Design the Model"
   ]
  },
  {
   "cell_type": "code",
   "execution_count": 4,
   "metadata": {},
   "outputs": [
    {
     "data": {
      "text/plain": [
       "'Your code here'"
      ]
     },
     "execution_count": 4,
     "metadata": {},
     "output_type": "execute_result"
    }
   ],
   "source": [
    "# Define a CNN model. \n",
    "# You are welcome to use the model from the fmnist_examples notebook, or you can try to create a better one.\n",
    "# Either way, I recommend starting with the model from the fmnist_examples notebook and modifying it as you like.\n",
    "\n",
    "# Important: Remember that our output is 3 classes, not 2 like in the Fashion MNIST dataset,\n",
    "# So you will have to change at least one thing in the model.\n",
    "\n",
    "'Your code here'\n"
   ]
  },
  {
   "cell_type": "markdown",
   "metadata": {},
   "source": [
    "## Data Prep"
   ]
  },
  {
   "cell_type": "code",
   "execution_count": 5,
   "metadata": {},
   "outputs": [
    {
     "data": {
      "text/plain": [
       "'Your code here'"
      ]
     },
     "execution_count": 5,
     "metadata": {},
     "output_type": "execute_result"
    }
   ],
   "source": [
    "# Convert your data to PyTorch tensors and create DataLoader objects for training and testing\n",
    "\n",
    "'Your code here'\n"
   ]
  },
  {
   "cell_type": "markdown",
   "metadata": {},
   "source": [
    "## Fit the Model"
   ]
  },
  {
   "cell_type": "code",
   "execution_count": 6,
   "metadata": {},
   "outputs": [
    {
     "data": {
      "text/plain": [
       "'Your code here'"
      ]
     },
     "execution_count": 6,
     "metadata": {},
     "output_type": "execute_result"
    }
   ],
   "source": [
    "# Initialize the model, loss function, and optimizer\n",
    "\n",
    "'Your code here'\n",
    "\n",
    "# Train the model\n",
    "# More epochs takes more time, but also helps your model to be more accurate.\n",
    "# Report some notion of accuracy, loss or both as it builds to see how well your model is doing.\n",
    "\n",
    "'Your code here'\n",
    "\n",
    "# How does the test accuracy compare to that of the Random Forest model previously used?\n"
   ]
  },
  {
   "cell_type": "markdown",
   "metadata": {},
   "source": [
    "## Plot Confusion Matrix"
   ]
  },
  {
   "cell_type": "code",
   "execution_count": 7,
   "metadata": {},
   "outputs": [
    {
     "data": {
      "text/plain": [
       "'Your code here'"
      ]
     },
     "execution_count": 7,
     "metadata": {},
     "output_type": "execute_result"
    }
   ],
   "source": [
    "# Compute and plot a confusion matrix.\n",
    "\n",
    "'Your code here'\n",
    "\n",
    "# Where are misclassifications occurring?\n",
    "# How does this compare to the confusion matrix for the Random Forest model previously?"
   ]
  },
  {
   "cell_type": "markdown",
   "metadata": {},
   "source": [
    "## Plot Misclassifications"
   ]
  },
  {
   "cell_type": "code",
   "execution_count": 8,
   "metadata": {},
   "outputs": [
    {
     "data": {
      "text/plain": [
       "'Your code here'"
      ]
     },
     "execution_count": 8,
     "metadata": {},
     "output_type": "execute_result"
    }
   ],
   "source": [
    "# Plot some of the misclassifications.\n",
    "\n",
    "'Your code here'\n",
    "\n",
    "# Can you see why the model made the misclassifications it did?"
   ]
  },
  {
   "cell_type": "markdown",
   "metadata": {},
   "source": [
    "# Data Transformations"
   ]
  },
  {
   "cell_type": "code",
   "execution_count": 9,
   "metadata": {},
   "outputs": [
    {
     "data": {
      "text/plain": [
       "'Your code here'"
      ]
     },
     "execution_count": 9,
     "metadata": {},
     "output_type": "execute_result"
    }
   ],
   "source": [
    "# Implement some kind of Appropriate Data Transformation(s) for this data set.\n",
    "# You can/should copy the combined_transform function from the fmnist_examples notebook, but you will have to \n",
    "# think about whether all of the transformations are appropriate for this data set and maybe adjust them.\n",
    "\n",
    "# There is 1 modification you must make to the combined_transform function! All other modifications are optional.\n",
    "\n",
    "\"Your code here\"\n",
    "\n",
    "# Plot some of the transformed images vs the original images. Check that your transformations provide\n",
    "# a reasonable augmentation of the data.\n",
    "\n",
    "'Your code here'\n"
   ]
  },
  {
   "cell_type": "markdown",
   "metadata": {},
   "source": [
    "## CNN on Transformed Data"
   ]
  },
  {
   "cell_type": "code",
   "execution_count": 10,
   "metadata": {},
   "outputs": [
    {
     "data": {
      "text/plain": [
       "'Your code here'"
      ]
     },
     "execution_count": 10,
     "metadata": {},
     "output_type": "execute_result"
    }
   ],
   "source": [
    "# As a proof of concept, let's run the model on the transformed data.\n",
    "# This very well may not be better than the model trained on the original data, \n",
    "# since we don't expect our test data to be transformed. But let's try it out.\n",
    "\n",
    "# Convert your transformed data to a PyTorch tensor and create a DataLoader object for training.\n",
    "\n",
    "'Your code here'\n",
    "\n",
    "# Provide initializations for a new model and train the model on the transformed data.\n",
    "# Report some notion of accuracy, loss or both as it builds to see how well your model is doing.\n",
    "\n",
    "'Your code here'"
   ]
  }
 ],
 "metadata": {
  "kernelspec": {
   "display_name": "stat5810",
   "language": "python",
   "name": "python3"
  },
  "language_info": {
   "codemirror_mode": {
    "name": "ipython",
    "version": 3
   },
   "file_extension": ".py",
   "mimetype": "text/x-python",
   "name": "python",
   "nbconvert_exporter": "python",
   "pygments_lexer": "ipython3",
   "version": "3.11.5"
  }
 },
 "nbformat": 4,
 "nbformat_minor": 2
}
