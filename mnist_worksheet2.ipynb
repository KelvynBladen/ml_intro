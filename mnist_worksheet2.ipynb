{
 "cells": [
  {
   "cell_type": "markdown",
   "metadata": {},
   "source": [
    "# Load Data"
   ]
  },
  {
   "cell_type": "code",
   "execution_count": 1,
   "metadata": {},
   "outputs": [
    {
     "name": "stderr",
     "output_type": "stream",
     "text": [
      "2025-01-31 11:36:27.914153: I tensorflow/core/util/port.cc:153] oneDNN custom operations are on. You may see slightly different numerical results due to floating-point round-off errors from different computation orders. To turn them off, set the environment variable `TF_ENABLE_ONEDNN_OPTS=0`.\n",
      "2025-01-31 11:36:28.032290: E external/local_xla/xla/stream_executor/cuda/cuda_fft.cc:477] Unable to register cuFFT factory: Attempting to register factory for plugin cuFFT when one has already been registered\n",
      "WARNING: All log messages before absl::InitializeLog() is called are written to STDERR\n",
      "E0000 00:00:1738348588.094334   14388 cuda_dnn.cc:8310] Unable to register cuDNN factory: Attempting to register factory for plugin cuDNN when one has already been registered\n",
      "E0000 00:00:1738348588.118848   14388 cuda_blas.cc:1418] Unable to register cuBLAS factory: Attempting to register factory for plugin cuBLAS when one has already been registered\n",
      "2025-01-31 11:36:28.248435: I tensorflow/core/platform/cpu_feature_guard.cc:210] This TensorFlow binary is optimized to use available CPU instructions in performance-critical operations.\n",
      "To enable the following instructions: AVX2 AVX512F AVX512_VNNI FMA, in other operations, rebuild TensorFlow with the appropriate compiler flags.\n"
     ]
    }
   ],
   "source": [
    "import tensorflow as tf\n",
    "\n",
    "# Load the Fashion MNIST dataset\n",
    "mnist = tf.keras.datasets.mnist\n",
    "(x_train, y_train), (x_test, y_test) = mnist.load_data()\n",
    "\n",
    "# Normalize the data\n",
    "x_train, x_test = x_train / 255.0, x_test / 255.0"
   ]
  },
  {
   "cell_type": "markdown",
   "metadata": {},
   "source": [
    "### Data Prep"
   ]
  },
  {
   "cell_type": "code",
   "execution_count": 2,
   "metadata": {},
   "outputs": [
    {
     "name": "stdout",
     "output_type": "stream",
     "text": [
      "[5 5 6 ... 5 6 8]\n",
      "[0 0 1 ... 0 1 2]\n"
     ]
    }
   ],
   "source": [
    "import numpy as np\n",
    "\n",
    "# Subset your data the same 3 digit classes you used in the Random Forest problem from the last assignment.\n",
    "\n",
    "# Again, You can totally copy any code over from the fmnist_examples notebook and modify it.\n",
    "# You can use chatGPT, copilot, google, or other AI or online resources.\n",
    "# Use each other, the goal is to complete the objectives and maybe learn something new, not to struggle to make up code on your own.\n",
    "# We have prior notebooks, chatGPT, the internet, and each other for the rapids projects, so use them here if they will help!\n",
    "\n",
    "# Extract the 3 classes from the training data\n",
    "\n",
    "train_filter = (y_train == 5) | (y_train == 6) | (y_train == 8)\n",
    "x_train_nn = x_train[train_filter]\n",
    "y_train_nn = y_train[train_filter]\n",
    "\n",
    "# Extract the 3 classes from the test data\n",
    "\n",
    "test_filter = (y_test == 5) | (y_test == 6) | (y_test == 8)\n",
    "x_test_nn = x_test[test_filter]\n",
    "y_test_nn = y_test[test_filter]\n",
    "\n",
    "print(y_train_nn)\n",
    "y_train_nn_bin = np.array([0 if y == 5 else (1 if y == 6 else 2) for y in y_train_nn])\n",
    "y_test_nn_bin = np.array([0 if y == 5 else (1 if y == 6 else 2) for y in y_test_nn])\n",
    "print(y_train_nn_bin)"
   ]
  },
  {
   "cell_type": "markdown",
   "metadata": {},
   "source": [
    "### Plot Data"
   ]
  },
  {
   "cell_type": "code",
   "execution_count": 3,
   "metadata": {},
   "outputs": [
    {
     "data": {
      "image/png": "[encoded data removed]",
      "text/plain": [
       "<Figure size 1000x500 with 10 Axes>"
      ]
     },
     "metadata": {},
     "output_type": "display_data"
    }
   ],
   "source": [
    "## Plot 6 to 10 images from your data\n",
    "\n",
    "import matplotlib.pyplot as plt\n",
    "\n",
    "plt.figure(figsize=(10, 5))\n",
    "\n",
    "for i in range(10):\n",
    "    plt.subplot(2, 5, i + 1)\n",
    "    plt.imshow(x_train_nn[i], cmap='gray')\n",
    "    plt.title(f'Label: {y_train_nn_bin[i]}')\n",
    "    plt.axis('off')\n",
    "\n",
    "plt.show()"
   ]
  },
  {
   "cell_type": "markdown",
   "metadata": {},
   "source": [
    "# CNN with Pytorth"
   ]
  },
  {
   "cell_type": "markdown",
   "metadata": {},
   "source": [
    "### Design the CNN Model"
   ]
  },
  {
   "cell_type": "code",
   "execution_count": 4,
   "metadata": {},
   "outputs": [],
   "source": [
    "# Define a CNN model. \n",
    "# You are welcome to use the model from the fmnist_examples notebook, or you can try to create a better one.\n",
    "# Either way, I recommend starting with the model from the fmnist_examples notebook and modifying it as you like.\n",
    "\n",
    "# Important: Remember that our output has 3 classes, not 2 like in the Fashion MNIST dataset,\n",
    "# So you will have to change at least one thing in the model to accommodate this.\n",
    "\n",
    "import torch\n",
    "from torch.utils.data import DataLoader, TensorDataset\n",
    "\n",
    "import torch.nn as nn\n",
    "import torch.optim as optim\n",
    "\n",
    "# Define the CNN model\n",
    "class CNN(nn.Module):\n",
    "    def __init__(self):\n",
    "        super(CNN, self).__init__()\n",
    "        self.conv1 = nn.Conv2d(1, 32, kernel_size=3)\n",
    "        self.pool = nn.MaxPool2d(kernel_size=2, stride=2)\n",
    "        self.conv2 = nn.Conv2d(32, 64, kernel_size=3)\n",
    "        self.fc1 = nn.Linear(64 * 5 * 5, 128)\n",
    "        self.fc2 = nn.Linear(128, 3)\n",
    "\n",
    "    def forward(self, x):\n",
    "        x = self.pool(torch.relu(self.conv1(x)))\n",
    "        x = self.pool(torch.relu(self.conv2(x)))\n",
    "        x = x.view(-1, 64 * 5 * 5)\n",
    "        x = torch.relu(self.fc1(x))\n",
    "        x = self.fc2(x)\n",
    "        return x"
   ]
  },
  {
   "cell_type": "markdown",
   "metadata": {},
   "source": [
    "### Data Prep"
   ]
  },
  {
   "cell_type": "code",
   "execution_count": 5,
   "metadata": {},
   "outputs": [],
   "source": [
    "# Convert your data to PyTorch tensors and create DataLoader objects for training and testing\n",
    "\n",
    "# Convert the data to PyTorch tensors\n",
    "x_train_tensor = torch.tensor(x_train_nn.reshape(-1, 1, 28, 28), dtype=torch.float32)\n",
    "y_train_tensor = torch.tensor(y_train_nn_bin, dtype=torch.long)\n",
    "x_test_tensor = torch.tensor(x_test_nn.reshape(-1, 1, 28, 28), dtype=torch.float32)\n",
    "y_test_tensor = torch.tensor(y_test_nn_bin, dtype=torch.long)\n",
    "\n",
    "# Create DataLoader for training and testing\n",
    "train_dataset = TensorDataset(x_train_tensor, y_train_tensor)\n",
    "test_dataset = TensorDataset(x_test_tensor, y_test_tensor)\n",
    "train_loader = DataLoader(train_dataset, batch_size=64, shuffle=True)\n",
    "test_loader = DataLoader(test_dataset, batch_size=64, shuffle=False)"
   ]
  },
  {
   "cell_type": "markdown",
   "metadata": {},
   "source": [
    "### Fit the CNN"
   ]
  },
  {
   "cell_type": "code",
   "execution_count": 6,
   "metadata": {},
   "outputs": [
    {
     "name": "stdout",
     "output_type": "stream",
     "text": [
      "Epoch 1/10, Train Loss: 0.1162, Validation Loss: 0.0327, Validation Accuracy: 0.9919\n",
      "Epoch 2/10, Train Loss: 0.0277, Validation Loss: 0.0168, Validation Accuracy: 0.9947\n",
      "Epoch 3/10, Train Loss: 0.0181, Validation Loss: 0.0141, Validation Accuracy: 0.9947\n",
      "Epoch 4/10, Train Loss: 0.0138, Validation Loss: 0.0182, Validation Accuracy: 0.9943\n",
      "Epoch 5/10, Train Loss: 0.0106, Validation Loss: 0.0136, Validation Accuracy: 0.9965\n",
      "Epoch 6/10, Train Loss: 0.0074, Validation Loss: 0.0150, Validation Accuracy: 0.9965\n",
      "Epoch 7/10, Train Loss: 0.0050, Validation Loss: 0.0134, Validation Accuracy: 0.9972\n",
      "Epoch 8/10, Train Loss: 0.0050, Validation Loss: 0.0131, Validation Accuracy: 0.9979\n",
      "Epoch 9/10, Train Loss: 0.0034, Validation Loss: 0.0154, Validation Accuracy: 0.9954\n",
      "Epoch 10/10, Train Loss: 0.0024, Validation Loss: 0.0143, Validation Accuracy: 0.9972\n",
      "The accuracy improved by about 0.01 compared to the Random Forest model.\n"
     ]
    }
   ],
   "source": [
    "# Initialize the model, loss function, and optimizer\n",
    "\n",
    "t_model = CNN()\n",
    "criterion = nn.CrossEntropyLoss()\n",
    "optimizer = optim.Adam(t_model.parameters(), lr=0.001)\n",
    "\n",
    "# Train the model\n",
    "# More epochs takes more time, but also helps your model to be more accurate.\n",
    "# Report some notion of accuracy, loss or both as it builds to see how well your model is doing.\n",
    "\n",
    "num_epochs = 10\n",
    "for epoch in range(num_epochs):\n",
    "    t_model.train()\n",
    "    running_loss = 0.0\n",
    "    for inputs, labels in train_loader:\n",
    "        optimizer.zero_grad()\n",
    "        outputs = t_model(inputs)\n",
    "        loss = criterion(outputs, labels)\n",
    "        loss.backward()\n",
    "        optimizer.step()\n",
    "        running_loss += loss.item()\n",
    "    \n",
    "    # Calculate validation loss and accuracy\n",
    "    t_model.eval()\n",
    "    val_loss = 0.0\n",
    "    correct = 0\n",
    "    total = 0\n",
    "    with torch.no_grad():\n",
    "        for val_inputs, val_labels in test_loader:\n",
    "            val_outputs = t_model(val_inputs)\n",
    "            val_loss += criterion(val_outputs, val_labels).item()\n",
    "            _, predicted = torch.max(val_outputs, 1)\n",
    "            total += val_labels.size(0)\n",
    "            correct += (predicted == val_labels).sum().item()\n",
    "    \n",
    "    # Compute metrics\n",
    "    avg_train_loss = running_loss / len(train_loader)\n",
    "    avg_val_loss = val_loss / len(test_loader)\n",
    "    val_accuracy = correct / total\n",
    "    \n",
    "    # Print metrics rounded to 4 decimals\n",
    "    print(f'Epoch {epoch + 1}/{num_epochs}, '\n",
    "          f'Train Loss: {avg_train_loss:.4f}, '\n",
    "          f'Validation Loss: {avg_val_loss:.4f}, '\n",
    "          f'Validation Accuracy: {val_accuracy:.4f}')\n",
    "\n",
    "\n",
    "# How does the test accuracy compare to that of the Random Forest model previously used?\n",
    "print(\"The accuracy improved by about 0.01 compared to the Random Forest model.\")\n"
   ]
  },
  {
   "cell_type": "markdown",
   "metadata": {},
   "source": [
    "### Plot Confusion Matrix"
   ]
  },
  {
   "cell_type": "code",
   "execution_count": 7,
   "metadata": {},
   "outputs": [
    {
     "name": "stdout",
     "output_type": "stream",
     "text": [
      "[[891   1   0]\n",
      " [  3 952   3]\n",
      " [  1   0 973]]\n"
     ]
    },
    {
     "data": {
      "image/png": "[encoded data removed]",
      "text/plain": [
       "<Figure size 800x600 with 2 Axes>"
      ]
     },
     "metadata": {},
     "output_type": "display_data"
    },
    {
     "name": "stdout",
     "output_type": "stream",
     "text": [
      "The model made very few misclassifications,\n",
      "but struggled the most with correctly classifying 6's.\n"
     ]
    }
   ],
   "source": [
    "# Compute and plot a confusion matrix.\n",
    "\n",
    "import numpy as np\n",
    "from sklearn.metrics import confusion_matrix\n",
    "import seaborn as sns\n",
    "\n",
    "# Make predictions on the test set\n",
    "t_model.eval()\n",
    "test_predictions = []\n",
    "with torch.no_grad():\n",
    "    for inputs, labels in test_loader:\n",
    "        outputs = t_model(inputs)\n",
    "        _, predicted = torch.max(outputs.data, 1)\n",
    "        test_predictions.extend(predicted.numpy())\n",
    "\n",
    "# Convert predictions to numpy array\n",
    "test_predictions = np.array(test_predictions)\n",
    "\n",
    "# Compute the confusion matrix\n",
    "conf_matrix_torch = confusion_matrix(y_test_nn_bin, test_predictions)\n",
    "\n",
    "# Print the confusion matrix\n",
    "print(conf_matrix_torch)\n",
    "\n",
    "# Plot the confusion matrix with counts\n",
    "plt.figure(figsize=(8, 6))\n",
    "sns.heatmap(conf_matrix_torch, annot=True, fmt='d', xticklabels=[0, 1], yticklabels=[0, 1])\n",
    "plt.xlabel('Predicted')\n",
    "plt.ylabel('Actual')\n",
    "plt.title('Confusion Matrix with Counts (PyTorch Model)')\n",
    "plt.show()\n",
    "\n",
    "# Where are misclassifications occurring?\n",
    "# How does your test accuracy compare to that of the Random Forest model previously made?\n",
    "print(\"The model made very few misclassifications,\")\n",
    "print(\"but struggled the most with correctly classifying 6's.\")"
   ]
  },
  {
   "cell_type": "markdown",
   "metadata": {},
   "source": [
    "### Plot Misclassifications"
   ]
  },
  {
   "cell_type": "code",
   "execution_count": 8,
   "metadata": {},
   "outputs": [
    {
     "data": {
      "image/png": "[encoded data removed]",
      "text/plain": [
       "<Figure size 1000x1000 with 8 Axes>"
      ]
     },
     "metadata": {},
     "output_type": "display_data"
    },
    {
     "name": "stdout",
     "output_type": "stream",
     "text": [
      "I can see why the model struggled to classify these numbers.\n",
      "I would have misclassified a few of these too.\n"
     ]
    }
   ],
   "source": [
    "# Plot some of the misclassifications.\n",
    "\n",
    "# Find the indices of misclassified samples\n",
    "misclassified_indices_torch = [i for i in range(len(y_test_nn_bin)) if test_predictions[i] != y_test_nn_bin[i]]\n",
    "\n",
    "plt.figure(figsize=(10, 10))\n",
    "\n",
    "for i, idx in enumerate(misclassified_indices_torch[:]):\n",
    "    plt.subplot(4, 5, i + 1)\n",
    "    plt.imshow(x_test_nn[idx], cmap='gray')\n",
    "    plt.title(f'True: {y_test_nn_bin[idx]}, Pred: {test_predictions[idx]}')\n",
    "    plt.axis('off')\n",
    "\n",
    "plt.show()\n",
    "\n",
    "# Can you see why the model made the misclassifications it did?\n",
    "print(\"I can see why the model struggled to classify these numbers.\")\n",
    "print(\"I would have misclassified a few of these too.\")"
   ]
  },
  {
   "cell_type": "markdown",
   "metadata": {},
   "source": [
    "# CNN with Transformations"
   ]
  },
  {
   "cell_type": "markdown",
   "metadata": {},
   "source": [
    "### Data Transformations"
   ]
  },
  {
   "cell_type": "code",
   "execution_count": 9,
   "metadata": {},
   "outputs": [
    {
     "name": "stdout",
     "output_type": "stream",
     "text": [
      "torch.Size([64, 1, 28, 28]) torch.Size([64])\n"
     ]
    },
    {
     "data": {
      "image/png": "[encoded data removed]",
      "text/plain": [
       "<Figure size 1000x500 with 10 Axes>"
      ]
     },
     "metadata": {},
     "output_type": "display_data"
    }
   ],
   "source": [
    "# Implement some kind of Appropriate Data Transformation(s) for this data set.\n",
    "# You can/should copy the train_mod function from the fmnist_examples_ml2 notebook, but you will have to \n",
    "# think about whether all of the transformations are appropriate for this data set and maybe adjust them.\n",
    "\n",
    "# There is 1 specific modification you must make to the train_mod function! Other modifications are great, but optional.\n",
    "\n",
    "from torchvision.datasets import MNIST\n",
    "from torchvision import transforms\n",
    "\n",
    "# Define data augmentation transformations\n",
    "train_mod = transforms.Compose([\n",
    "    transforms.RandomRotation(degrees=15),\n",
    "    transforms.RandomAffine(degrees=0, translate=(0.1, 0.1)),\n",
    "\n",
    "    transforms.ToTensor(),                     # Convert to tensor\n",
    "    transforms.Normalize((0.5,), (0.5,))    # Normalize to [-1, 1]\n",
    "])\n",
    "\n",
    "test_mod = transforms.Compose([\n",
    "    transforms.ToTensor(),                     # Convert to tensor\n",
    "    transforms.Normalize((0.5,), (0.5,))       # Normalize to [-1, 1]\n",
    "])\n",
    "\n",
    "# Load the MNIST train dataset\n",
    "train_dataset = MNIST(root=\"./data\", train=True, transform=train_mod, download=True)\n",
    "\n",
    "# Filter the dataset to only include the 3 classes of interest\n",
    "# Convert to labels to 0, 1, 2\n",
    "# Convert the dataset to a DataLoader object\n",
    "\n",
    "train_indices = (train_dataset.targets == 5) | (train_dataset.targets == 6) | (train_dataset.targets == 8)\n",
    "train_dataset.targets = train_dataset.targets[train_indices]\n",
    "train_dataset.data = train_dataset.data[train_indices]\n",
    "\n",
    "train_dataset.targets = [0 if y == 5 else (1 if y == 6 else 2) for y in train_dataset.targets]\n",
    "\n",
    "train_loader_mod = DataLoader(train_dataset, batch_size=64, shuffle=True)\n",
    "\n",
    "# Repeat for the loading, filtering, and conversions on the test dataset\n",
    "test_dataset = MNIST(root=\"./data\", train=False, transform=test_mod, download=True)\n",
    "\n",
    "test_indices = (test_dataset.targets == 5) | (test_dataset.targets == 6) | (test_dataset.targets == 8)\n",
    "test_dataset.targets = test_dataset.targets[test_indices]\n",
    "test_dataset.data = test_dataset.data[test_indices]\n",
    "\n",
    "test_dataset.targets = [0 if y == 5 else (1 if y == 6 else 2) for y in test_dataset.targets]\n",
    "\n",
    "test_loader_mod = DataLoader(test_dataset, batch_size=64, shuffle=False)\n",
    "\n",
    "# Plot some of the images in your train_loader. Check that your transformations provide\n",
    "# a reasonable augmentation of the data. If they don't, adjust them in the train_mod function.\n",
    "\n",
    "'Your code here'\n",
    "# Iterate over batches\n",
    "for images, labels in train_loader_mod:\n",
    "    # images now contain dynamically augmented data\n",
    "    print(images.shape, labels.shape)\n",
    "    break  # Checking one batch\n",
    "\n",
    "# Plot some of the transformed images\n",
    "plt.figure(figsize=(10, 5))\n",
    "\n",
    "for i in range(10):\n",
    "    plt.subplot(2, 5, i + 1)\n",
    "    plt.imshow(images[i].numpy().squeeze(), cmap='gray')\n",
    "    plt.title(f'Label: {labels[i].item()}')\n",
    "    plt.axis('off')\n",
    "\n",
    "plt.show()"
   ]
  },
  {
   "cell_type": "markdown",
   "metadata": {},
   "source": [
    "### Fit the CNN"
   ]
  },
  {
   "cell_type": "code",
   "execution_count": 10,
   "metadata": {},
   "outputs": [
    {
     "name": "stdout",
     "output_type": "stream",
     "text": [
      "Epoch 1/10, Train Loss: 0.1827, Validation Loss: 0.0393, Validation Accuracy: 0.9858\n",
      "Epoch 2/10, Train Loss: 0.0768, Validation Loss: 0.0209, Validation Accuracy: 0.9933\n",
      "Epoch 3/10, Train Loss: 0.0496, Validation Loss: 0.0174, Validation Accuracy: 0.9940\n",
      "Epoch 4/10, Train Loss: 0.0388, Validation Loss: 0.0175, Validation Accuracy: 0.9954\n",
      "Epoch 5/10, Train Loss: 0.0346, Validation Loss: 0.0116, Validation Accuracy: 0.9961\n",
      "Epoch 6/10, Train Loss: 0.0290, Validation Loss: 0.0117, Validation Accuracy: 0.9965\n",
      "Epoch 7/10, Train Loss: 0.0289, Validation Loss: 0.0112, Validation Accuracy: 0.9961\n",
      "Epoch 8/10, Train Loss: 0.0252, Validation Loss: 0.0114, Validation Accuracy: 0.9958\n",
      "Epoch 9/10, Train Loss: 0.0237, Validation Loss: 0.0075, Validation Accuracy: 0.9968\n",
      "Epoch 10/10, Train Loss: 0.0193, Validation Loss: 0.0092, Validation Accuracy: 0.9965\n",
      "The model performed slightly better (0.003) with the transformed images.\n"
     ]
    }
   ],
   "source": [
    "# Run your CNN using the data loaders containing different transformations.\n",
    "# This very well may not be better than the model trained on the original data, \n",
    "# since we don't expect our test data to be transformed. But try it out.\n",
    "\n",
    "# Provide initializations for a new model and train the model.\n",
    "# Report some notion of accuracy, loss or both as it builds to see how well your model is doing.\n",
    "\n",
    "'Your code here'\n",
    "# Initialize the model, loss function, and optimizer\n",
    "t_model3 = CNN()\n",
    "criterion = nn.CrossEntropyLoss()\n",
    "optimizer = optim.Adam(t_model3.parameters(), lr=0.001)\n",
    "\n",
    "# Train the model\n",
    "num_epochs = 10\n",
    "for epoch in range(num_epochs):\n",
    "    t_model3.train()\n",
    "    running_loss = 0.0\n",
    "    for inputs, labels in train_loader_mod:\n",
    "        optimizer.zero_grad()\n",
    "        outputs = t_model3(inputs)\n",
    "        loss = criterion(outputs, labels)\n",
    "        loss.backward()\n",
    "        optimizer.step()\n",
    "        running_loss += loss.item()\n",
    "    \n",
    "    # Calculate validation loss and accuracy\n",
    "    t_model3.eval()\n",
    "    val_loss = 0.0\n",
    "    correct = 0\n",
    "    total = 0\n",
    "    with torch.no_grad():\n",
    "        for val_inputs, val_labels in test_loader_mod:\n",
    "            val_outputs = t_model3(val_inputs)\n",
    "            val_loss += criterion(val_outputs, val_labels).item()\n",
    "            _, predicted = torch.max(val_outputs, 1)\n",
    "            total += val_labels.size(0)\n",
    "            correct += (predicted == val_labels).sum().item()\n",
    "    \n",
    "    # Compute metrics\n",
    "    avg_train_loss = running_loss / len(train_loader_mod)\n",
    "    avg_val_loss = val_loss / len(test_loader_mod)\n",
    "    val_accuracy = correct / total\n",
    "    \n",
    "    # Print metrics rounded to 4 decimals\n",
    "    print(f'Epoch {epoch + 1}/{num_epochs}, '\n",
    "          f'Train Loss: {avg_train_loss:.4f}, '\n",
    "          f'Validation Loss: {avg_val_loss:.4f}, '\n",
    "          f'Validation Accuracy: {val_accuracy:.4f}')\n",
    "\n",
    "# How does the test accuracy compare to other models you've built?\n",
    "print(\"The model performed slightly better (0.003) with the transformed images.\")"
   ]
  }
 ],
 "metadata": {
  "kernelspec": {
   "display_name": "rapids",
   "language": "python",
   "name": "python3"
  },
  "language_info": {
   "codemirror_mode": {
    "name": "ipython",
    "version": 3
   },
   "file_extension": ".py",
   "mimetype": "text/x-python",
   "name": "python",
   "nbconvert_exporter": "python",
   "pygments_lexer": "ipython3",
   "version": "3.12.8"
  }
 },
 "nbformat": 4,
 "nbformat_minor": 2
}
