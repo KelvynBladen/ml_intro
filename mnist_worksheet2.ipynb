{
 "cells": [
  {
   "cell_type": "markdown",
   "metadata": {},
   "source": [
    "# Load Data"
   ]
  },
  {
   "cell_type": "code",
   "execution_count": 1,
   "metadata": {},
   "outputs": [],
   "source": [
    "import tensorflow as tf\n",
    "\n",
    "# Load the Fashion MNIST dataset\n",
    "mnist = tf.keras.datasets.mnist\n",
    "(x_train, y_train), (x_test, y_test) = mnist.load_data()\n",
    "\n",
    "# Normalize the data\n",
    "x_train, x_test = x_train / 255.0, x_test / 255.0"
   ]
  },
  {
   "cell_type": "markdown",
   "metadata": {},
   "source": [
    "### Data Prep"
   ]
  },
  {
   "cell_type": "code",
   "execution_count": null,
   "metadata": {},
   "outputs": [
    {
     "data": {
      "text/plain": [
       "'Your code here'"
      ]
     },
     "execution_count": 2,
     "metadata": {},
     "output_type": "execute_result"
    }
   ],
   "source": [
    "# Subset your data the same 3 digit classes you used in the Random Forest problem from the last assignment.\n",
    "\n",
    "# Again, You can totally copy any code over from the fmnist_examples notebook and modify it.\n",
    "# You can use chatGPT, copilot, google, or other AI or online resources.\n",
    "# Use each other, the goal is to complete the objectives and maybe learn something new, not to struggle to make up code on your own.\n",
    "# We have prior notebooks, chatGPT, the internet, and each other for the rapids projects, so use them here if they will help!\n",
    "\n",
    "# Extract the 3 classes from the training data\n",
    "\n",
    "train_filter = (y_train == 1) | (y_train == 7) | (y_train == 9)\n",
    "x_train_cnn_1_7_9 = x_train_flat[train_filter]\n",
    "y_train_cnn_1_7_9 = y_train[train_filter]\n",
    "\n",
    "# Extract the 3 classes from the test data\n",
    "\n",
    "test_filter = (y_test == 1) | (y_test == 7) | (y_test == 9)\n",
    "x_test_cnn_1_7_9 = x_test_flat[test_filter]\n",
    "y_test_cnn_1_7_9 = y_test[test_filter]\n",
    "# Extract the 3 classes from the test data\n",
    "\n",
    "train_filter = (y_train == 1) | (y_train == 7) | (y_train == 9)\n",
    "x_train_cnn_1_7_9 = x_train_flat[train_filter]\n",
    "y_train_cnn_1_7_9 = y_train[train_filter]\n",
    "\n",
    "# Extract the 3 classes from the test data\n",
    "\n",
    "test_filter = (y_test == 1) | (y_test == 7) | (y_test == 9)\n",
    "x_test_1_7_9 = x_test_flat[test_filter]\n",
    "y_test_1_7_9 = y_test[test_filter]\n"
   ]
  },
  {
   "cell_type": "markdown",
   "metadata": {},
   "source": [
    "### Plot Data"
   ]
  },
  {
   "cell_type": "code",
   "execution_count": 3,
   "metadata": {},
   "outputs": [
    {
     "data": {
      "text/plain": [
       "'Your code here'"
      ]
     },
     "execution_count": 3,
     "metadata": {},
     "output_type": "execute_result"
    }
   ],
   "source": [
    "## Plot 6 to 10 images from your data\n",
    "\n",
    "'Your code here'\n"
   ]
  },
  {
   "cell_type": "markdown",
   "metadata": {},
   "source": [
    "# CNN with Pytorth"
   ]
  },
  {
   "cell_type": "markdown",
   "metadata": {},
   "source": [
    "### Design the CNN Model"
   ]
  },
  {
   "cell_type": "code",
   "execution_count": 4,
   "metadata": {},
   "outputs": [
    {
     "data": {
      "text/plain": [
       "'Your code here'"
      ]
     },
     "execution_count": 4,
     "metadata": {},
     "output_type": "execute_result"
    }
   ],
   "source": [
    "# Define a CNN model. \n",
    "# You are welcome to use the model from the fmnist_examples notebook, or you can try to create a better one.\n",
    "# Either way, I recommend starting with the model from the fmnist_examples notebook and modifying it as you like.\n",
    "\n",
    "# Important: Remember that our output has 3 classes, not 2 like in the Fashion MNIST dataset,\n",
    "# So you will have to change at least one thing in the model to accommodate this.\n",
    "\n",
    "'Your code here'\n"
   ]
  },
  {
   "cell_type": "markdown",
   "metadata": {},
   "source": [
    "### Data Prep"
   ]
  },
  {
   "cell_type": "code",
   "execution_count": 5,
   "metadata": {},
   "outputs": [
    {
     "data": {
      "text/plain": [
       "'Your code here'"
      ]
     },
     "execution_count": 5,
     "metadata": {},
     "output_type": "execute_result"
    }
   ],
   "source": [
    "# Convert your data to PyTorch tensors and create DataLoader objects for training and testing\n",
    "\n",
    "'Your code here'\n"
   ]
  },
  {
   "cell_type": "markdown",
   "metadata": {},
   "source": [
    "### Fit the CNN"
   ]
  },
  {
   "cell_type": "code",
   "execution_count": 6,
   "metadata": {},
   "outputs": [
    {
     "data": {
      "text/plain": [
       "'Your code here'"
      ]
     },
     "execution_count": 6,
     "metadata": {},
     "output_type": "execute_result"
    }
   ],
   "source": [
    "# Initialize the model, loss function, and optimizer\n",
    "\n",
    "'Your code here'\n",
    "\n",
    "# Train the model\n",
    "# More epochs takes more time, but also helps your model to be more accurate.\n",
    "# Report some notion of accuracy, loss or both as it builds to see how well your model is doing.\n",
    "\n",
    "'Your code here'\n",
    "\n",
    "# How does the test accuracy compare to that of the Random Forest model previously used?\n"
   ]
  },
  {
   "cell_type": "markdown",
   "metadata": {},
   "source": [
    "### Plot Confusion Matrix"
   ]
  },
  {
   "cell_type": "code",
   "execution_count": 7,
   "metadata": {},
   "outputs": [
    {
     "data": {
      "text/plain": [
       "'Your code here'"
      ]
     },
     "execution_count": 7,
     "metadata": {},
     "output_type": "execute_result"
    }
   ],
   "source": [
    "# Compute and plot a confusion matrix.\n",
    "\n",
    "'Your code here'\n",
    "\n",
    "# Where are misclassifications occurring?\n",
    "# How does your test accuracy compare to that of the Random Forest model previously made?"
   ]
  },
  {
   "cell_type": "markdown",
   "metadata": {},
   "source": [
    "### Plot Misclassifications"
   ]
  },
  {
   "cell_type": "code",
   "execution_count": 8,
   "metadata": {},
   "outputs": [
    {
     "data": {
      "text/plain": [
       "'Your code here'"
      ]
     },
     "execution_count": 8,
     "metadata": {},
     "output_type": "execute_result"
    }
   ],
   "source": [
    "# Plot some of the misclassifications.\n",
    "\n",
    "'Your code here'\n",
    "\n",
    "# Can you see why the model made the misclassifications it did?"
   ]
  },
  {
   "cell_type": "markdown",
   "metadata": {},
   "source": [
    "# CNN with Transformations"
   ]
  },
  {
   "cell_type": "markdown",
   "metadata": {},
   "source": [
    "### Data Transformations"
   ]
  },
  {
   "cell_type": "code",
   "execution_count": null,
   "metadata": {},
   "outputs": [
    {
     "data": {
      "text/plain": [
       "'Your code here'"
      ]
     },
     "execution_count": 12,
     "metadata": {},
     "output_type": "execute_result"
    }
   ],
   "source": [
    "# Implement some kind of Appropriate Data Transformation(s) for this data set.\n",
    "# You can/should copy the train_mod function from the fmnist_examples_ml2 notebook, but you will have to \n",
    "# think about whether all of the transformations are appropriate for this data set and maybe adjust them.\n",
    "\n",
    "# There is 1 specific modification you must make to the train_mod function! Other modifications are great, but optional.\n",
    "\n",
    "from torchvision.datasets import MNIST\n",
    "from torchvision import transforms\n",
    "\n",
    "# Define data augmentation transformations\n",
    "train_mod = transforms.Compose([\n",
    "    \"Your code here\",\n",
    "    transforms.ToTensor(),                     # Convert to tensor\n",
    "    transforms.Normalize((0.5,), (0.5,))    # Normalize to [-1, 1]\n",
    "])\n",
    "\n",
    "test_mod = transforms.Compose([\n",
    "    transforms.ToTensor(),                     # Convert to tensor\n",
    "    transforms.Normalize((0.5,), (0.5,))       # Normalize to [-1, 1]\n",
    "])\n",
    "\n",
    "# Load the MNIST train dataset\n",
    "train_dataset = MNIST(root=\"./data\", train=True, transform=train_mod, download=True)\n",
    "\n",
    "# Filter the dataset to only include the 3 classes of interest\n",
    "# Convert to labels to 0, 1, 2\n",
    "# Convert the dataset to a DataLoader object\n",
    "\n",
    "\"Your code here\"\n",
    "\n",
    "# Repeat for the loading, filtering, and conversions on the test dataset\n",
    "test_dataset = MNIST(root=\"./data\", train=False, transform=test_mod, download=True)\n",
    "\n",
    "'Your code here'\n",
    "\n",
    "# Plot some of the images in your train_loader. Check that your transformations provide\n",
    "# a reasonable augmentation of the data. If they don't, adjust them in the train_mod function.\n",
    "\n",
    "'Your code here'"
   ]
  },
  {
   "cell_type": "markdown",
   "metadata": {},
   "source": [
    "### Fit the CNN"
   ]
  },
  {
   "cell_type": "code",
   "execution_count": null,
   "metadata": {},
   "outputs": [],
   "source": [
    "# Run your CNN using the data loaders containing different transformations.\n",
    "# This very well may not be better than the model trained on the original data, \n",
    "# since we don't expect our test data to be transformed. But try it out.\n",
    "\n",
    "# Provide initializations for a new model and train the model.\n",
    "# Report some notion of accuracy, loss or both as it builds to see how well your model is doing.\n",
    "\n",
    "'Your code here'\n",
    "\n",
    "# How does the test accuracy compare to other models you've built?"
   ]
  }
 ],
 "metadata": {
  "kernelspec": {
   "display_name": "stat5810",
   "language": "python",
   "name": "python3"
  },
  "language_info": {
   "codemirror_mode": {
    "name": "ipython",
    "version": 3
   },
   "file_extension": ".py",
   "mimetype": "text/x-python",
   "name": "python",
   "nbconvert_exporter": "python",
   "pygments_lexer": "ipython3",
   "version": "3.11.5"
  }
 },
 "nbformat": 4,
 "nbformat_minor": 2
}
