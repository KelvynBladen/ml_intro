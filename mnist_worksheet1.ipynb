{
 "cells": [
  {
   "cell_type": "markdown",
   "metadata": {},
   "source": [
    "# Load Data"
   ]
  },
  {
   "cell_type": "code",
   "execution_count": 1,
   "metadata": {},
   "outputs": [
    {
     "name": "stdout",
     "output_type": "stream",
     "text": [
      "WARNING:tensorflow:From c:\\Users\\kelvy\\anaconda3\\envs\\stat5810\\Lib\\site-packages\\keras\\src\\losses.py:2976: The name tf.losses.sparse_softmax_cross_entropy is deprecated. Please use tf.compat.v1.losses.sparse_softmax_cross_entropy instead.\n",
      "\n"
     ]
    }
   ],
   "source": [
    "import tensorflow as tf\n",
    "\n",
    "# Load the Fashion MNIST dataset\n",
    "mnist = tf.keras.datasets.mnist\n",
    "(x_train, y_train), (x_test, y_test) = mnist.load_data()\n",
    "\n",
    "# Normalize the data\n",
    "x_train, x_test = x_train / 255.0, x_test / 255.0"
   ]
  },
  {
   "cell_type": "markdown",
   "metadata": {},
   "source": [
    "## Plot Data"
   ]
  },
  {
   "cell_type": "code",
   "execution_count": 2,
   "metadata": {},
   "outputs": [
    {
     "data": {
      "image/png": "[encoded data removed]",
      "text/plain": [
       "<Figure size 1000x500 with 8 Axes>"
      ]
     },
     "metadata": {},
     "output_type": "display_data"
    }
   ],
   "source": [
    "import matplotlib.pyplot as plt\n",
    "\n",
    "plt.figure(figsize=(10, 5))\n",
    "\n",
    "for i in range(8):\n",
    "    plt.subplot(2, 4, i + 1)\n",
    "    plt.imshow(x_train[i], cmap='gray')\n",
    "    plt.title(f'Label: {y_train[i]}')\n",
    "    plt.axis('off')\n",
    "\n",
    "plt.show()"
   ]
  },
  {
   "cell_type": "code",
   "execution_count": 3,
   "metadata": {},
   "outputs": [
    {
     "name": "stdout",
     "output_type": "stream",
     "text": [
      "(28, 28)\n"
     ]
    }
   ],
   "source": [
    "# Check the shape of the data\n",
    "# Each image is 28 x 28 pixels\n",
    "print(x_train[1].shape)"
   ]
  },
  {
   "cell_type": "markdown",
   "metadata": {},
   "source": [
    "# Random Forest"
   ]
  },
  {
   "cell_type": "markdown",
   "metadata": {},
   "source": [
    "## Data Prep"
   ]
  },
  {
   "cell_type": "code",
   "execution_count": null,
   "metadata": {},
   "outputs": [],
   "source": [
    "# Many machine learning models expect data to be in a 2D table, where each row is a sample and each column is a feature.\n",
    "# We can flatten the 28x28 images into a single row of 784 pixels.\n",
    "\n",
    "# So, first we need to prepare/alter the images so that a random forest can use them.\n",
    "# The random forest will use the pixel values as features, so give it a dataset of flat vectors like\n",
    "# the one we used for the fashion_mnist example.\n",
    "\n",
    "x_train_flat = x_train.reshape(x_train.shape[0], -1)\n",
    "print(x_train_flat.shape)\n",
    "print(y_train.shape)\n",
    "x_test_flat = x_test.reshape(x_test.shape[0], -1)"
   ]
  },
  {
   "cell_type": "code",
   "execution_count": 11,
   "metadata": {},
   "outputs": [
    {
     "data": {
      "text/plain": [
       "'Your code here if you want'"
      ]
     },
     "execution_count": 11,
     "metadata": {},
     "output_type": "execute_result"
    }
   ],
   "source": [
    "# There are 10 classes in the MNIST dataset, just like the fashion_MNIST.\n",
    "# You need to select 3 classes to train your model on. You get to pick the classes you want to use, but \n",
    "# Please choose classes that are similar to each other.\n",
    "# For example, you could choose 3, 5, and 8. Or 4, 7, 9. Or other combinations that you deam appropriate.\n",
    "# Please don't choose digits that are easy to tell apart, like 0, 1, and 5. Or 1, 2, and 3.\n",
    "\n",
    "# You can totally copy code over from the fmnist_examples notebook and modify it.\n",
    "# You can use chatGPT, copilot, google, or other AI or online resources.\n",
    "# Use each other, the goal is to complete the objective and maybe learn something new, not to struggle to make up code on your own.\n",
    "# We have prior notebooks, chatGPT, the internet, and each other for the rapids projects, so use them here if they will help!\n",
    "\n",
    "# Extract the 3 classes from the training data\n",
    "\n",
    "train_filter = (y_train == 1) | (y_train == 7) | (y_train == 9)\n",
    "x_train_179 = x_train_flat[train_filter]\n",
    "y_train_179 = y_train[train_filter]\n",
    "\n",
    "# Extract the 3 classes from the test data\n",
    "\n",
    "test_filter = (y_test == 1) | (y_test == 7) | (y_test == 9)\n",
    "x_test_179 = x_test_flat[test_filter]\n",
    "y_test_179 = y_test[test_filter]\n",
    "\n",
    "# Maybe check the shape of the data is correct\n",
    "\n",
    "print(f'x_train_179 shape: {x_train_179.shape}')\n",
    "print(f'y_train_179 shape: {y_train_179.shape}')\n",
    "print(f'x_test_179 shape: {x_test_179.shape}')\n",
    "print(f'y_test_179 shape: {y_test_179.shape}')\n"
   ]
  },
  {
   "cell_type": "markdown",
   "metadata": {},
   "source": [
    "## Simple Model Fit"
   ]
  },
  {
   "cell_type": "code",
   "execution_count": 12,
   "metadata": {},
   "outputs": [
    {
     "data": {
      "text/plain": [
       "'Your code here'"
      ]
     },
     "execution_count": 12,
     "metadata": {},
     "output_type": "execute_result"
    }
   ],
   "source": [
    "# Fit a simple random forest. Make sure it has at least 100 trees, Probably not more than 1000 trees.\n",
    "\n",
    "from sklearn.ensemble import RandomForestClassifier\n",
    "from sklearn.metrics import accuracy_score\n",
    "\n",
    "# Initialize the RandomForestClassifier\n",
    "rf = RandomForestClassifier(n_estimators=200, random_state=42)\n",
    "\n",
    "# Fit the model\n",
    "rf.fit(x_train_179, y_train_179)\n",
    "\n",
    "# Generate predictions on the test set and calculate the overall accuracy of the model on the test set.\n",
    "\n",
    "y_test_pred = rf.predict(x_test_179)\n",
    "\n",
    "# Calculate the accuracy on the test data\n",
    "test_accuracy = accuracy_score(y_test_179, y_test_pred)\n",
    "print(f'Test Accuracy: {test_accuracy}')\n"
   ]
  },
  {
   "cell_type": "markdown",
   "metadata": {},
   "source": [
    "# Tune Model Fit"
   ]
  },
  {
   "cell_type": "code",
   "execution_count": 13,
   "metadata": {},
   "outputs": [
    {
     "data": {
      "text/plain": [
       "'Your code here'"
      ]
     },
     "execution_count": 13,
     "metadata": {},
     "output_type": "execute_result"
    }
   ],
   "source": [
    "# Now try to tuning the model. \n",
    "# This part can take a while, maybe several minutes.\n",
    "\n",
    "from sklearn.model_selection import GridSearchCV\n",
    "\n",
    "# Define the parameter grid for mtry (max_features in sklearn)\n",
    "param_grid = {\n",
    "    'max_features': ['sqrt', 'log2'],\n",
    "    'n_estimators': [100, 200, 300]\n",
    "}\n",
    "\n",
    "# Initialize the RandomForestClassifier\n",
    "rfc = RandomForestClassifier(n_estimators=200, random_state=42)\n",
    "\n",
    "# Initialize GridSearchCV with the RandomForestClassifier and the parameter grid\n",
    "grid_search = GridSearchCV(estimator=rfc, param_grid=param_grid, cv=5, scoring='accuracy')\n",
    "\n",
    "# Fit the model\n",
    "grid_search.fit(x_train_179, y_train_179)\n",
    "\n",
    "# Get the best parameters and the best score\n",
    "best_params = grid_search.best_params_\n",
    "best_score = grid_search.best_score_\n",
    "\n",
    "print(f'Best parameters: {best_params}')\n",
    "print(f'Best cross-validation score: {best_score}')\n",
    "\n",
    "# Generate predictions on the test set and calculate the overall accuracy of the model on the test set.\n",
    "\n",
    "# Use the best estimator to make predictions\n",
    "best_rf = grid_search.best_estimator_\n",
    "y_test_pred = best_rf.predict(x_test_179)\n",
    "\n",
    "# Does tuning the model improve the accuracy? How much?\n",
    "# Was the tuning accuracy worth the extra time?\n",
    "\n",
    "# No, it said that the original model was best."
   ]
  },
  {
   "cell_type": "code",
   "execution_count": 14,
   "metadata": {},
   "outputs": [
    {
     "data": {
      "text/plain": [
       "'Your code here'"
      ]
     },
     "execution_count": 14,
     "metadata": {},
     "output_type": "execute_result"
    }
   ],
   "source": [
    "# Compute and plot a confusion matrix\n",
    "from sklearn.metrics import confusion_matrix\n",
    "import seaborn as sns\n",
    "import pandas as pd\n",
    "\n",
    "# Calculate the accuracy on the test data\n",
    "test_accuracy = accuracy_score(y_test_179, y_test_pred)\n",
    "print(f'Test Accuracy: {test_accuracy}')\n",
    "\n",
    "# Compute the confusion matrix\n",
    "conf_matrix = confusion_matrix(y_test_179, y_test_pred)\n",
    "print(conf_matrix)\n",
    "\n",
    "# Plot the confusion matrix with counts\n",
    "plt.figure(figsize=(8, 6))\n",
    "sns.heatmap(conf_matrix, annot=True, fmt='d', xticklabels=[1, 7, 9], yticklabels=[1, 7, 9])\n",
    "plt.xlabel('Predicted')\n",
    "plt.ylabel('Actual')\n",
    "plt.title('Confusion Matrix with Counts')\n",
    "plt.show()\n",
    "\n",
    "# Where are misclassifications occurring?"
   ]
  },
  {
   "cell_type": "code",
   "execution_count": 15,
   "metadata": {},
   "outputs": [
    {
     "data": {
      "text/plain": [
       "'Your code here'"
      ]
     },
     "execution_count": 15,
     "metadata": {},
     "output_type": "execute_result"
    }
   ],
   "source": [
    "# Plot some of the misclassifications.\n",
    "\n",
    "misclassified_indices = [i for i in range(len(y_test_179)) if y_test_pred[i] != y_test_179[i]]\n",
    "\n",
    "plt.figure(figsize=(10, 5))\n",
    "\n",
    "for i, idx in enumerate(misclassified_indices):\n",
    "    plt.subplot(1, 5, i + 1)\n",
    "    plt.imshow(x_test_179[idx].reshape(28, 28), cmap='gray')\n",
    "    plt.title(f'True: {y_test_179[idx]}, Pred: {y_test_pred[idx]}')\n",
    "    plt.axis('off')\n",
    "\n",
    "plt.show()\n",
    "\n",
    "# Can you see why the model made the misclassifications it did?"
   ]
  }
 ],
 "metadata": {
  "kernelspec": {
   "display_name": "stat5810",
   "language": "python",
   "name": "python3"
  },
  "language_info": {
   "codemirror_mode": {
    "name": "ipython",
    "version": 3
   },
   "file_extension": ".py",
   "mimetype": "text/x-python",
   "name": "python",
   "nbconvert_exporter": "python",
   "pygments_lexer": "ipython3",
   "version": "3.11.5"
  }
 },
 "nbformat": 4,
 "nbformat_minor": 2
}
