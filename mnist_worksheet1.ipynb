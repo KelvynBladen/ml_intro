{
 "cells": [
  {
   "cell_type": "markdown",
   "metadata": {},
   "source": [
    "# Load Data"
   ]
  },
  {
   "cell_type": "code",
   "execution_count": 1,
   "metadata": {},
   "outputs": [
    {
     "name": "stdout",
     "output_type": "stream",
     "text": [
      "Downloading data from https://storage.googleapis.com/tensorflow/tf-keras-datasets/mnist.npz\n",
      "\u001b[1m11490434/11490434\u001b[0m \u001b[32m━━━━━━━━━━━━━━━━━━━━\u001b[0m\u001b[37m\u001b[0m \u001b[1m1s\u001b[0m 0us/step\n"
     ]
    }
   ],
   "source": [
    "import tensorflow as tf\n",
    "\n",
    "# Load the MNIST dataset\n",
    "mnist = tf.keras.datasets.mnist\n",
    "(x_train, y_train), (x_test, y_test) = mnist.load_data()\n",
    "\n",
    "# Normalize the data\n",
    "x_train, x_test = x_train / 255.0, x_test / 255.0"
   ]
  },
  {
   "cell_type": "markdown",
   "metadata": {},
   "source": [
    "## Plot Data"
   ]
  },
  {
   "cell_type": "code",
   "execution_count": 2,
   "metadata": {},
   "outputs": [
    {
     "data": {
      "image/png": "[encoded data removed]",
      "text/plain": [
       "<Figure size 1000x500 with 8 Axes>"
      ]
     },
     "metadata": {},
     "output_type": "display_data"
    }
   ],
   "source": [
    "import matplotlib.pyplot as plt\n",
    "\n",
    "plt.figure(figsize=(10, 5))\n",
    "\n",
    "for i in range(8):\n",
    "    plt.subplot(2, 4, i + 1)\n",
    "    plt.imshow(x_train[i], cmap='gray')\n",
    "    plt.title(f'Label: {y_train[i]}')\n",
    "    plt.axis('off')\n",
    "\n",
    "plt.show()"
   ]
  },
  {
   "cell_type": "code",
   "execution_count": 3,
   "metadata": {},
   "outputs": [
    {
     "name": "stdout",
     "output_type": "stream",
     "text": [
      "(28, 28)\n"
     ]
    }
   ],
   "source": [
    "# Check the shape of the data\n",
    "# Each image is 28 x 28 pixels\n",
    "print(x_train[1].shape)"
   ]
  },
  {
   "cell_type": "markdown",
   "metadata": {},
   "source": [
    "# Random Forest"
   ]
  },
  {
   "cell_type": "markdown",
   "metadata": {},
   "source": [
    "## Data Prep"
   ]
  },
  {
   "cell_type": "code",
   "execution_count": 4,
   "metadata": {},
   "outputs": [
    {
     "name": "stdout",
     "output_type": "stream",
     "text": [
      "(60000, 784)\n",
      "(60000,)\n"
     ]
    }
   ],
   "source": [
    "# Many machine learning models expect data to be in a 2D table, where each row is a sample and each column is a feature.\n",
    "# We can flatten the 28x28 images into a single row of 784 pixels.\n",
    "\n",
    "# So, first we need to prepare/alter the images so that a random forest can use them.\n",
    "# The random forest will use the pixel values as features, so give it a dataset of flat vectors like\n",
    "# the one we used for the fashion_mnist example.\n",
    "\n",
    "x_train_flat = x_train.reshape(x_train.shape[0], -1)\n",
    "print(x_train_flat.shape)\n",
    "print(y_train.shape)\n",
    "x_test_flat = x_test.reshape(x_test.shape[0], -1)"
   ]
  },
  {
   "cell_type": "code",
   "execution_count": 9,
   "metadata": {},
   "outputs": [
    {
     "name": "stdout",
     "output_type": "stream",
     "text": [
      "x_train_1_7_9 shape: (18956, 784)\n",
      "y_train_1_7_9 shape: (18956,)\n",
      "x_test_1_7_9 shape: (3172, 784)\n",
      "y_test_1_7_9 shape: (3172,)\n"
     ]
    }
   ],
   "source": [
    "# There are 10 classes in the MNIST dataset, just like the fashion_MNIST.\n",
    "# You need to select 3 classes to train your model on. You get to pick the classes you want to use, but \n",
    "# Please choose classes that are similar to each other.\n",
    "# For example, you could choose 3, 5, and 8. Or 4, 7, 9. Or other combinations that you deam appropriate.\n",
    "# Please don't choose digits that are easy to tell apart, like 0, 1, and 5. Or 1, 2, and 3.\n",
    "\n",
    "# You can totally copy code over from the fmnist_examples notebook and modify it.\n",
    "# You can use chatGPT, copilot, google, or other AI or online resources.\n",
    "# Use each other, the goal is to complete the objective and maybe learn something new, not to struggle to make up code on your own.\n",
    "# We have prior notebooks, chatGPT, the internet, and each other for the rapids projects, so use them here if they will help!\n",
    "\n",
    "# Extract the 3 classes from the training data\n",
    "\n",
    "train_filter = (y_train == 1) | (y_train == 7) | (y_train == 9)\n",
    "x_train_1_7_9 = x_train_flat[train_filter]\n",
    "y_train_1_7_9 = y_train[train_filter]\n",
    "\n",
    "# Extract the 3 classes from the test data\n",
    "\n",
    "test_filter = (y_test == 1) | (y_test == 7) | (y_test == 9)\n",
    "x_test_1_7_9 = x_test_flat[test_filter]\n",
    "y_test_1_7_9 = y_test[test_filter]\n",
    "\n",
    "# Maybe check the shape of the data is correct\n",
    "\n",
    "print(f'x_train_1_7_9 shape: {x_train_1_7_9.shape}')\n",
    "print(f'y_train_1_7_9 shape: {y_train_1_7_9.shape}')\n",
    "print(f'x_test_1_7_9 shape: {x_test_1_7_9.shape}')\n",
    "print(f'y_test_1_7_9 shape: {y_test_1_7_9.shape}')\n",
    "\n"
   ]
  },
  {
   "cell_type": "markdown",
   "metadata": {},
   "source": [
    "## Simple Model Fit"
   ]
  },
  {
   "cell_type": "code",
   "execution_count": 12,
   "metadata": {},
   "outputs": [
    {
     "name": "stdout",
     "output_type": "stream",
     "text": [
      "Test Accuracy: 0.9902269861286255\n"
     ]
    }
   ],
   "source": [
    "# Fit a simple random forest. Make sure it has at least 100 trees, Probably not more than 1000 trees.\n",
    "\n",
    "from sklearn.model_selection import GridSearchCV\n",
    "from sklearn.ensemble import RandomForestClassifier\n",
    "from sklearn.metrics import accuracy_score\n",
    "\n",
    "rf = RandomForestClassifier(n_estimators=200, random_state=42)\n",
    "\n",
    "rf.fit(x_train_1_7_9, y_train_1_7_9)\n",
    "\n",
    "# Generate predictions on the test set and calculate the overall accuracy of the model on the test set.\n",
    "\n",
    "y_test_pred = rf.predict(x_test_1_7_9)\n",
    "\n",
    "test_accuracy = accuracy_score(y_test_1_7_9, y_test_pred)\n",
    "print(f'Test Accuracy: {test_accuracy}')\n"
   ]
  },
  {
   "cell_type": "markdown",
   "metadata": {},
   "source": [
    "# Tune Model Fit"
   ]
  },
  {
   "cell_type": "code",
   "execution_count": null,
   "metadata": {},
   "outputs": [
    {
     "data": {
      "text/plain": [
       "'Your code here'"
      ]
     },
     "execution_count": 13,
     "metadata": {},
     "output_type": "execute_result"
    }
   ],
   "source": [
    "# Now try to tuning the model. \n",
    "# This part can take a while, maybe several minutes.\n",
    "\n",
    "# Generate predictions on the test set and calculate the overall accuracy of the model on the test set.\n",
    "\n",
    "'Your code here'\n",
    "\n",
    "# Does tuning the model improve the accuracy? How much?\n",
    "# Was the tuning accuracy worth the extra time?"
   ]
  },
  {
   "cell_type": "code",
   "execution_count": 15,
   "metadata": {},
   "outputs": [
    {
     "name": "stdout",
     "output_type": "stream",
     "text": [
      "Test Accuracy: 0.9902269861286255\n",
      "[[1133    1    1]\n",
      " [   7 1009   12]\n",
      " [   6    4  999]]\n"
     ]
    },
    {
     "data": {
      "image/png": "[encoded data removed]",
      "text/plain": [
       "<Figure size 800x600 with 2 Axes>"
      ]
     },
     "metadata": {},
     "output_type": "display_data"
    }
   ],
   "source": [
    "# Compute and plot a confusion matrix.\n",
    "\n",
    "from sklearn.metrics import confusion_matrix\n",
    "import seaborn as sns\n",
    "import pandas as pd\n",
    "\n",
    "# Calculate the accuracy on the test data\n",
    "test_accuracy = accuracy_score(y_test_1_7_9, y_test_pred)\n",
    "print(f'Test Accuracy: {test_accuracy}')\n",
    "\n",
    "# Compute the confusion matrix\n",
    "conf_matrix = confusion_matrix(y_test_1_7_9, y_test_pred)\n",
    "print(conf_matrix)\n",
    "\n",
    "# Plot the confusion matrix with counts\n",
    "plt.figure(figsize=(8, 6))\n",
    "sns.heatmap(conf_matrix, annot=True, fmt='d', xticklabels=[1, 7, 9], yticklabels=[1, 7, 9])\n",
    "plt.xlabel('Predicted')\n",
    "plt.ylabel('Actual')\n",
    "plt.title('Confusion Matrix with Counts')\n",
    "plt.show()\n",
    "\n",
    "# Where are misclassifications occurring?\n"
   ]
  },
  {
   "cell_type": "code",
   "execution_count": null,
   "metadata": {},
   "outputs": [
    {
     "name": "stdout",
     "output_type": "stream",
     "text": [
      "[[0.    1.    0.   ]\n",
      " [1.    0.    0.   ]\n",
      " [1.    0.    0.   ]\n",
      " [0.03  0.03  0.94 ]\n",
      " [0.    0.035 0.965]]\n"
     ]
    },
    {
     "data": {
      "image/png": "[encoded data removed]",
      "text/plain": [
       "<Figure size 1000x500 with 5 Axes>"
      ]
     },
     "metadata": {},
     "output_type": "display_data"
    }
   ],
   "source": [
    "y_test_pred_proba = rf.predict_proba(x_test_1_7_9)\n",
    "print(y_test_pred_proba[:5])\n",
    "\n",
    "# Plot some of the misclassifications.\n",
    "misclassified_indices = [i for i in range(len(y_test_1_7_9)) if y_test_pred[i] != y_test_1_7_9[i]]\n",
    "\n",
    "misclassified_probs = [y_test_pred_proba[idx][1] if y_test_1_7_9[idx] == 7 else y_test_pred_proba[idx][0] for idx in misclassified_indices]\n",
    "\n",
    "worst_misclassified_indices = [misclassified_indices[i] for i in sorted(range(len(misclassified_probs)), key=lambda i: misclassified_probs[i], reverse=True)[:5]]\n",
    "\n",
    "plt.figure(figsize=(10, 5))\n",
    "\n",
    "for i, idx in enumerate(worst_misclassified_indices):\n",
    "    plt.subplot(1, 5, i + 1)\n",
    "    plt.imshow(x_test_1_7_9[idx].reshape(28, 28), cmap='gray')\n",
    "    plt.title(f'True: {y_test_1_7_9[idx]}, Pred: {y_test_pred[idx]}')\n",
    "    plt.axis('off')\n",
    "\n",
    "plt.show()\n",
    "\n",
    "# Can you see why the model made the misclassifications it did?"
   ]
  }
 ],
 "metadata": {
  "kernelspec": {
   "display_name": "stat5810",
   "language": "python",
   "name": "python3"
  },
  "language_info": {
   "codemirror_mode": {
    "name": "ipython",
    "version": 3
   },
   "file_extension": ".py",
   "mimetype": "text/x-python",
   "name": "python",
   "nbconvert_exporter": "python",
   "pygments_lexer": "ipython3",
   "version": "3.11.5"
  }
 },
 "nbformat": 4,
 "nbformat_minor": 2
}
