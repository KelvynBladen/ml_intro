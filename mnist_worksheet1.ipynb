{
 "cells": [
  {
   "cell_type": "code",
   "execution_count": 1,
   "metadata": {},
   "outputs": [
    {
     "name": "stderr",
     "output_type": "stream",
     "text": [
      "2025-01-28 17:49:40.249206: I tensorflow/core/util/port.cc:153] oneDNN custom operations are on. You may see slightly different numerical results due to floating-point round-off errors from different computation orders. To turn them off, set the environment variable `TF_ENABLE_ONEDNN_OPTS=0`.\n",
      "2025-01-28 17:49:40.256378: I external/local_xla/xla/tsl/cuda/cudart_stub.cc:32] Could not find cuda drivers on your machine, GPU will not be used.\n",
      "2025-01-28 17:49:40.299010: I external/local_xla/xla/tsl/cuda/cudart_stub.cc:32] Could not find cuda drivers on your machine, GPU will not be used.\n",
      "2025-01-28 17:49:40.349935: E external/local_xla/xla/stream_executor/cuda/cuda_fft.cc:477] Unable to register cuFFT factory: Attempting to register factory for plugin cuFFT when one has already been registered\n",
      "WARNING: All log messages before absl::InitializeLog() is called are written to STDERR\n",
      "E0000 00:00:1738111780.392892   17766 cuda_dnn.cc:8310] Unable to register cuDNN factory: Attempting to register factory for plugin cuDNN when one has already been registered\n",
      "E0000 00:00:1738111780.404956   17766 cuda_blas.cc:1418] Unable to register cuBLAS factory: Attempting to register factory for plugin cuBLAS when one has already been registered\n",
      "2025-01-28 17:49:40.494002: I tensorflow/core/platform/cpu_feature_guard.cc:210] This TensorFlow binary is optimized to use available CPU instructions in performance-critical operations.\n",
      "To enable the following instructions: AVX2 AVX512F AVX512_VNNI FMA, in other operations, rebuild TensorFlow with the appropriate compiler flags.\n"
     ]
    }
   ],
   "source": [
    "import pandas as pd\n",
    "import seaborn as sns\n",
    "import tensorflow as tf\n",
    "import matplotlib.pyplot as plt\n",
    "from sklearn.metrics import accuracy_score\n",
    "from sklearn.metrics import confusion_matrix\n",
    "from sklearn.model_selection import GridSearchCV\n",
    "from sklearn.ensemble import RandomForestClassifier\n",
    "\n"
   ]
  },
  {
   "cell_type": "markdown",
   "metadata": {},
   "source": [
    "# Load Data"
   ]
  },
  {
   "cell_type": "code",
   "execution_count": 2,
   "metadata": {},
   "outputs": [],
   "source": [
    "# Load the Fashion MNIST dataset\n",
    "mnist = tf.keras.datasets.mnist\n",
    "(x_train, y_train), (x_test, y_test) = mnist.load_data()\n",
    "\n",
    "# Normalize the data\n",
    "x_train, x_test = x_train / 255.0, x_test / 255.0"
   ]
  },
  {
   "cell_type": "markdown",
   "metadata": {},
   "source": [
    "## Plot Data"
   ]
  },
  {
   "cell_type": "code",
   "execution_count": 3,
   "metadata": {},
   "outputs": [
    {
     "data": {
      "image/png": "[encoded data removed]",
      "text/plain": [
       "<Figure size 1000x500 with 8 Axes>"
      ]
     },
     "metadata": {},
     "output_type": "display_data"
    }
   ],
   "source": [
    "plt.figure(figsize=(10, 5))\n",
    "\n",
    "for i in range(8):\n",
    "    plt.subplot(2, 4, i + 1)\n",
    "    plt.imshow(x_train[i], cmap='gray')\n",
    "    plt.title(f'Label: {y_train[i]}')\n",
    "    plt.axis('off')\n",
    "\n",
    "plt.show()"
   ]
  },
  {
   "cell_type": "code",
   "execution_count": 4,
   "metadata": {},
   "outputs": [
    {
     "name": "stdout",
     "output_type": "stream",
     "text": [
      "(28, 28)\n"
     ]
    }
   ],
   "source": [
    "# Check the shape of the data\n",
    "# Each image is 28 x 28 pixels\n",
    "print(x_train[1].shape)"
   ]
  },
  {
   "cell_type": "markdown",
   "metadata": {},
   "source": [
    "# Random Forest"
   ]
  },
  {
   "cell_type": "markdown",
   "metadata": {},
   "source": [
    "## Data Prep"
   ]
  },
  {
   "cell_type": "code",
   "execution_count": 5,
   "metadata": {},
   "outputs": [
    {
     "name": "stdout",
     "output_type": "stream",
     "text": [
      "(60000, 784)\n",
      "(60000,)\n"
     ]
    }
   ],
   "source": [
    "# Many machine learning models expect data to be in a 2D table, where each row is a sample and each column is a feature.\n",
    "# We can flatten the 28x28 images into a single row of 784 pixels.\n",
    "\n",
    "# So, first we need to prepare/alter the images so that a random forest can use them.\n",
    "# The random forest will use the pixel values as features, so give it a dataset of flat vectors like\n",
    "# the one we used for the fashion_mnist example.\n",
    "\n",
    "x_train_flat = x_train.reshape(x_train.shape[0], -1)\n",
    "print(x_train_flat.shape)\n",
    "print(y_train.shape)\n",
    "x_test_flat = x_test.reshape(x_test.shape[0], -1)"
   ]
  },
  {
   "cell_type": "code",
   "execution_count": 6,
   "metadata": {},
   "outputs": [
    {
     "name": "stdout",
     "output_type": "stream",
     "text": [
      "x_train_5_6 shape: (11339, 784)\n",
      "y_train_5_6 shape: (11339,)\n",
      "x_test_5_6 shape: (1850, 784)\n",
      "y_test_5_6 shape: (1850,)\n"
     ]
    }
   ],
   "source": [
    "# There are 10 classes in the MNIST dataset, just like the fashion_MNIST.\n",
    "# You need to select 3 classes to train your model on. You get to pick the classes you want to use, but \n",
    "# Please choose classes that are similar to each other.\n",
    "# For example, you could choose 3, 5, and 8. Or 4, 7, 9. Or other combinations that you deam appropriate.\n",
    "# Please don't choose digits that are easy to tell apart, like 0, 1, and 5. Or 1, 2, and 3.\n",
    "\n",
    "# You can totally copy code over from the fmnist_examples notebook and modify it.\n",
    "# You can use chatGPT, copilot, google, or other AI or online resources.\n",
    "# Use each other, the goal is to complete the objective and maybe learn something new, not to struggle to make up code on your own.\n",
    "# We have prior notebooks, chatGPT, the internet, and each other for the rapids projects, so use them here if they will help!\n",
    "\n",
    "# Extract the 3 classes from the training data\n",
    "\n",
    "train_filter = (y_train == 5) | (y_train == 6)\n",
    "x_train_5_6 = x_train_flat[train_filter]\n",
    "y_train_5_6 = y_train[train_filter]\n",
    "\n",
    "# Extract the 3 classes from the test data\n",
    "\n",
    "test_filter = (y_test == 5) | (y_test == 6)\n",
    "x_test_5_6 = x_test_flat[test_filter]\n",
    "y_test_5_6 = y_test[test_filter]\n",
    "\n",
    "# Maybe check the shape of the data is correct\n",
    "\n",
    "print(f'x_train_5_6 shape: {x_train_5_6.shape}')\n",
    "print(f'y_train_5_6 shape: {y_train_5_6.shape}')\n",
    "print(f'x_test_5_6 shape: {x_test_5_6.shape}')\n",
    "print(f'y_test_5_6 shape: {y_test_5_6.shape}')"
   ]
  },
  {
   "cell_type": "markdown",
   "metadata": {},
   "source": [
    "## Simple Model Fit"
   ]
  },
  {
   "cell_type": "code",
   "execution_count": 7,
   "metadata": {},
   "outputs": [
    {
     "name": "stdout",
     "output_type": "stream",
     "text": [
      "Test Accuracy: 0.9891891891891892\n"
     ]
    }
   ],
   "source": [
    "# Fit a simple random forest. Make sure it has at least 100 trees, Probably not more than 1000 trees.\n",
    "\n",
    "rf = RandomForestClassifier(n_estimators=200, random_state=42)\n",
    "rf.fit(x_train_5_6, y_train_5_6)\n",
    "\n",
    "# Generate predictions on the test set and calculate the overall accuracy of the model on the test set.\n",
    "\n",
    "y_test_pred = rf.predict(x_test_5_6)\n",
    "test_accuracy = accuracy_score(y_test_5_6, y_test_pred)\n",
    "print(f'Test Accuracy: {test_accuracy}')"
   ]
  },
  {
   "cell_type": "markdown",
   "metadata": {},
   "source": [
    "# Tune Model Fit"
   ]
  },
  {
   "cell_type": "code",
   "execution_count": 8,
   "metadata": {},
   "outputs": [
    {
     "name": "stdout",
     "output_type": "stream",
     "text": [
      "Best parameters: {'max_features': 'sqrt', 'n_estimators': 300}\n",
      "Best cross-validation score: 0.9880940322345998\n",
      "The accuracy went down by 0.001, (not a big difference in performance).\n",
      "The tuning accuracy was not worth the extra time.\n"
     ]
    }
   ],
   "source": [
    "# Now try to tuning the model. \n",
    "# This part can take a while, maybe several minutes.\n",
    "\n",
    "param_grid = {\n",
    "    'max_features': ['sqrt', 'log2'],\n",
    "    'n_estimators': [100, 200, 300]\n",
    "}\n",
    "\n",
    "rfc = RandomForestClassifier(n_estimators=200, random_state=42)\n",
    "\n",
    "grid_search = GridSearchCV(estimator=rfc, param_grid=param_grid, cv=5, scoring='accuracy')\n",
    "\n",
    "grid_search.fit(x_train_5_6, y_train_5_6)\n",
    "\n",
    "best_params = grid_search.best_params_\n",
    "best_score = grid_search.best_score_\n",
    "\n",
    "print(f'Best parameters: {best_params}')\n",
    "print(f'Best cross-validation score: {best_score}')\n",
    "\n",
    "# Generate predictions on the test set and calculate the overall accuracy of the model on the test set.\n",
    "\n",
    "best_rf = grid_search.best_estimator_\n",
    "y_test_pred = best_rf.predict(x_test_5_6)\n",
    "\n",
    "# Does tuning the model improve the accuracy? How much?\n",
    "# Was the tuning accuracy worth the extra time?\n",
    "\n",
    "print(\"The accuracy went down by 0.001, (not a big difference in performance).\")\n",
    "print(\"The tuning accuracy was not worth the extra time.\")"
   ]
  },
  {
   "cell_type": "code",
   "execution_count": 9,
   "metadata": {},
   "outputs": [
    {
     "name": "stdout",
     "output_type": "stream",
     "text": [
      "Test Accuracy: 0.9897297297297297\n",
      "[[882  10]\n",
      " [  9 949]]\n"
     ]
    },
    {
     "data": {
      "image/png": "[encoded data removed]",
      "text/plain": [
       "<Figure size 800x600 with 2 Axes>"
      ]
     },
     "metadata": {},
     "output_type": "display_data"
    },
    {
     "name": "stdout",
     "output_type": "stream",
     "text": [
      "There are proportionally more misclassifications of '5' as '6'.\n",
      "This is probably because there are more 6's in the training set.\n"
     ]
    }
   ],
   "source": [
    "# Compute and plot a confusion matrix.\n",
    "\n",
    "test_accuracy = accuracy_score(y_test_5_6, y_test_pred)\n",
    "print(f'Test Accuracy: {test_accuracy}')\n",
    "\n",
    "conf_matrix = confusion_matrix(y_test_5_6, y_test_pred)\n",
    "print(conf_matrix)\n",
    "\n",
    "plt.figure(figsize=(8, 6))\n",
    "sns.heatmap(conf_matrix, annot=True, fmt='d', xticklabels=[5, 6], yticklabels=[5, 6])\n",
    "plt.xlabel('Predicted')\n",
    "plt.ylabel('Actual')\n",
    "plt.title('Confusion Matrix with Counts')\n",
    "plt.show()\n",
    "\n",
    "# Where are misclassifications occurring?\n",
    "\n",
    "print(\"There are proportionally more misclassifications of '5' as '6'.\")\n",
    "print(\"This is probably because there are more 6's in the training set.\")"
   ]
  },
  {
   "cell_type": "code",
   "execution_count": 10,
   "metadata": {},
   "outputs": [
    {
     "name": "stdout",
     "output_type": "stream",
     "text": [
      "[[0.625 0.375]\n",
      " [0.155 0.845]\n",
      " [0.995 0.005]\n",
      " [0.    1.   ]\n",
      " [0.06  0.94 ]]\n"
     ]
    },
    {
     "data": {
      "image/png": "[encoded data removed]",
      "text/plain": [
       "<Figure size 1000x500 with 5 Axes>"
      ]
     },
     "metadata": {},
     "output_type": "display_data"
    },
    {
     "name": "stdout",
     "output_type": "stream",
     "text": [
      "I'm not sure why the model failed to predict the first image, but the rest of the images seem more ambiguous.\n",
      "I can see why the model struggled with the last four images.\n"
     ]
    }
   ],
   "source": [
    "# Plot some of the misclassifications.\n",
    "\n",
    "y_test_pred_proba = rf.predict_proba(x_test_5_6)\n",
    "print(y_test_pred_proba[:5])\n",
    "\n",
    "misclassified_indices = [i for i in range(len(y_test_5_6)) if y_test_pred[i] != y_test_5_6[i]]\n",
    "\n",
    "misclassified_probs = [y_test_pred_proba[idx][1] if y_test_5_6[idx] == 6 else y_test_pred_proba[idx][0] for idx in misclassified_indices]\n",
    "\n",
    "worst_misclassified_indices = [misclassified_indices[i] for i in sorted(range(len(misclassified_probs)), key=lambda i: misclassified_probs[i], reverse=True)[:5]]\n",
    "\n",
    "plt.figure(figsize=(10, 5))\n",
    "\n",
    "for i, idx in enumerate(worst_misclassified_indices):\n",
    "    plt.subplot(1, 5, i + 1)\n",
    "    plt.imshow(x_test_5_6[idx].reshape(28, 28), cmap='gray')\n",
    "    plt.title(f'True: {y_test_5_6[idx]}, Pred: {y_test_pred[idx]}')\n",
    "    plt.axis('off')\n",
    "\n",
    "plt.show()\n",
    "\n",
    "# Can you see why the model made the misclassifications it did?\n",
    "\n",
    "print(\"I'm not sure why the model failed to predict the first image, but the rest of the images seem more ambiguous.\")\n",
    "print(\"I can see why the model struggled with the last four images.\")"
   ]
  }
 ],
 "metadata": {
  "kernelspec": {
   "display_name": "rapids",
   "language": "python",
   "name": "python3"
  },
  "language_info": {
   "codemirror_mode": {
    "name": "ipython",
    "version": 3
   },
   "file_extension": ".py",
   "mimetype": "text/x-python",
   "name": "python",
   "nbconvert_exporter": "python",
   "pygments_lexer": "ipython3",
   "version": "3.12.8"
  }
 },
 "nbformat": 4,
 "nbformat_minor": 2
}
