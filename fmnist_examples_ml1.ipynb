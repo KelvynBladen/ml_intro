{
 "cells": [
  {
   "cell_type": "markdown",
   "metadata": {},
   "source": [
    "# Load Data"
   ]
  },
  {
   "cell_type": "code",
   "execution_count": null,
   "metadata": {},
   "outputs": [],
   "source": [
    "import tensorflow as tf\n",
    "\n",
    "# Load the Fashion MNIST dataset\n",
    "fmnist = tf.keras.datasets.fashion_mnist\n",
    "(x_train, y_train), (x_test, y_test) = fmnist.load_data()\n",
    "\n",
    "# Normalize the data\n",
    "x_train, x_test = x_train / 255.0, x_test / 255.0"
   ]
  },
  {
   "cell_type": "markdown",
   "metadata": {},
   "source": [
    "## Plot Data"
   ]
  },
  {
   "cell_type": "code",
   "execution_count": null,
   "metadata": {},
   "outputs": [],
   "source": [
    "import matplotlib.pyplot as plt\n",
    "\n",
    "plt.figure(figsize=(10, 5))\n",
    "\n",
    "for i in range(8):\n",
    "    plt.subplot(2, 4, i + 1)\n",
    "    plt.imshow(x_train[i], cmap='gray')\n",
    "    plt.title(f'Label: {y_train[i]}')\n",
    "    plt.axis('off')\n",
    "\n",
    "plt.show()"
   ]
  },
  {
   "cell_type": "code",
   "execution_count": null,
   "metadata": {},
   "outputs": [],
   "source": [
    "# Check the shape of the data\n",
    "# Each image is 28 x 28 pixels\n",
    "\n",
    "print(x_train[1].shape)"
   ]
  },
  {
   "cell_type": "markdown",
   "metadata": {},
   "source": [
    "# Random Forest"
   ]
  },
  {
   "cell_type": "markdown",
   "metadata": {},
   "source": [
    "## Data Prep"
   ]
  },
  {
   "cell_type": "code",
   "execution_count": null,
   "metadata": {},
   "outputs": [],
   "source": [
    "# Many machine learning models expect data to be in a 2D table, where each row is a sample and each column is a feature.\n",
    "# We can flatten the 28x28 images into a single row of 784 pixels.\n",
    "\n",
    "x_train_flat = x_train.reshape(x_train.shape[0], -1)\n",
    "print(x_train_flat.shape)\n",
    "print(y_train.shape)\n",
    "x_test_flat = x_test.reshape(x_test.shape[0], -1)"
   ]
  },
  {
   "cell_type": "code",
   "execution_count": null,
   "metadata": {},
   "outputs": [],
   "source": [
    "# Extract 7s and 9s from the training data (sneakers and ankle boots)\n",
    "train_filter = (y_train == 7) | (y_train == 9)\n",
    "x_train_7_9 = x_train_flat[train_filter]\n",
    "y_train_7_9 = y_train[train_filter]\n",
    "\n",
    "# Extract 7s and 9s from the test data\n",
    "test_filter = (y_test == 7) | (y_test == 9)\n",
    "x_test_7_9 = x_test_flat[test_filter]\n",
    "y_test_7_9 = y_test[test_filter]\n",
    "\n",
    "print(f'x_train_7_9 shape: {x_train_7_9.shape}')\n",
    "print(f'y_train_7_9 shape: {y_train_7_9.shape}')\n",
    "print(f'x_test_7_9 shape: {x_test_7_9.shape}')\n",
    "print(f'y_test_7_9 shape: {y_test_7_9.shape}')"
   ]
  },
  {
   "cell_type": "markdown",
   "metadata": {},
   "source": [
    "## Simple Model Fit"
   ]
  },
  {
   "cell_type": "code",
   "execution_count": null,
   "metadata": {},
   "outputs": [],
   "source": [
    "from sklearn.ensemble import RandomForestClassifier\n",
    "from sklearn.metrics import accuracy_score\n",
    "\n",
    "# Initialize the RandomForestClassifier\n",
    "rf = RandomForestClassifier(n_estimators=200, random_state=42)\n",
    "\n",
    "# Fit the model\n",
    "rf.fit(x_train_7_9, y_train_7_9)\n",
    "\n",
    "y_test_pred = rf.predict(x_test_7_9)\n",
    "\n",
    "# Calculate the accuracy on the test data\n",
    "test_accuracy = accuracy_score(y_test_7_9, y_test_pred)\n",
    "print(f'Test Accuracy: {test_accuracy}')"
   ]
  },
  {
   "cell_type": "markdown",
   "metadata": {},
   "source": [
    "# Tune Model Fit"
   ]
  },
  {
   "cell_type": "code",
   "execution_count": null,
   "metadata": {},
   "outputs": [],
   "source": [
    "from sklearn.model_selection import GridSearchCV\n",
    "\n",
    "# Define the parameter grid for mtry (max_features in sklearn)\n",
    "param_grid = {\n",
    "    'max_features': ['sqrt', 'log2'],\n",
    "    'n_estimators': [100, 200, 300]\n",
    "}\n",
    "\n",
    "# Initialize the RandomForestClassifier\n",
    "rfc = RandomForestClassifier(n_estimators=200, random_state=42)\n",
    "\n",
    "# Initialize GridSearchCV with the RandomForestClassifier and the parameter grid\n",
    "grid_search = GridSearchCV(estimator=rfc, param_grid=param_grid, cv=5, scoring='accuracy')\n",
    "\n",
    "# Fit the model\n",
    "grid_search.fit(x_train_7_9, y_train_7_9)\n",
    "\n",
    "# Get the best parameters and the best score\n",
    "best_params = grid_search.best_params_\n",
    "best_score = grid_search.best_score_\n",
    "\n",
    "print(f'Best parameters: {best_params}')\n",
    "print(f'Best cross-validation score: {best_score}')\n",
    "\n",
    "# Use the best estimator to make predictions\n",
    "best_rf = grid_search.best_estimator_\n",
    "y_test_pred = best_rf.predict(x_test_7_9)"
   ]
  },
  {
   "cell_type": "code",
   "execution_count": null,
   "metadata": {},
   "outputs": [],
   "source": [
    "# Compute and plot a confusion matrix\n",
    "from sklearn.metrics import confusion_matrix\n",
    "import seaborn as sns\n",
    "import pandas as pd\n",
    "\n",
    "# Calculate the accuracy on the test data\n",
    "test_accuracy = accuracy_score(y_test_7_9, y_test_pred)\n",
    "print(f'Test Accuracy: {test_accuracy}')\n",
    "\n",
    "# Compute the confusion matrix\n",
    "conf_matrix = confusion_matrix(y_test_7_9, y_test_pred)\n",
    "print(conf_matrix)\n",
    "\n",
    "# Plot the confusion matrix with counts\n",
    "plt.figure(figsize=(8, 6))\n",
    "sns.heatmap(conf_matrix, annot=True, fmt='d', xticklabels=[7, 9], yticklabels=[7, 9])\n",
    "plt.xlabel('Predicted')\n",
    "plt.ylabel('Actual')\n",
    "plt.title('Confusion Matrix with Counts')\n",
    "plt.show()"
   ]
  },
  {
   "cell_type": "code",
   "execution_count": null,
   "metadata": {},
   "outputs": [],
   "source": [
    "y_test_pred_proba = rf.predict_proba(x_test_7_9)\n",
    "print(y_test_pred_proba[:5])"
   ]
  },
  {
   "cell_type": "code",
   "execution_count": null,
   "metadata": {},
   "outputs": [],
   "source": [
    "# Find the indices of misclassified samples\n",
    "# Remember 7 is sneakers and 9 is ankle boots\n",
    "misclassified_indices = [i for i in range(len(y_test_7_9)) if y_test_pred[i] != y_test_7_9[i]]\n",
    "\n",
    "# Calculate the probabilities of the predicted class for misclassified samples\n",
    "misclassified_probs = [y_test_pred_proba[idx][1] if y_test_7_9[idx] == 7 else y_test_pred_proba[idx][0] for idx in misclassified_indices]\n",
    "\n",
    "# Get the indices of the 5 worst misclassifications (highest probabilities for the wrong class)\n",
    "worst_misclassified_indices = [misclassified_indices[i] for i in sorted(range(len(misclassified_probs)), key=lambda i: misclassified_probs[i], reverse=True)[:5]]\n",
    "\n",
    "# Plot the 5 worst misclassified samples\n",
    "plt.figure(figsize=(10, 5))\n",
    "\n",
    "for i, idx in enumerate(worst_misclassified_indices):\n",
    "    plt.subplot(1, 5, i + 1)\n",
    "    plt.imshow(x_test_7_9[idx].reshape(28, 28), cmap='gray')\n",
    "    plt.title(f'True: {y_test_7_9[idx]}, Pred: {y_test_pred[idx]}')\n",
    "    plt.axis('off')\n",
    "\n",
    "plt.show()"
   ]
  },
  {
   "cell_type": "code",
   "execution_count": null,
   "metadata": {},
   "outputs": [],
   "source": [
    "# Now get the 4 best misclassifications (lowest probabilities for the wrong class)\n",
    "\n",
    "# Get the indices of the 5 best misclassifications (lowest probabilities for the wrong class)\n",
    "best_misclassified_indices = [misclassified_indices[i] for i in sorted(range(len(misclassified_probs)), key=lambda i: misclassified_probs[i])[:5]]\n",
    "\n",
    "# Plot the 4 best misclassified samples\n",
    "plt.figure(figsize=(10, 5))\n",
    "\n",
    "for i, idx in enumerate(best_misclassified_indices):\n",
    "    plt.subplot(1, 5, i + 1)\n",
    "    plt.imshow(x_test_7_9[idx].reshape(28, 28), cmap='gray')\n",
    "    plt.title(f'True: {y_test_7_9[idx]}, Pred: {y_test_pred[idx]}')\n",
    "    plt.axis('off')\n",
    "\n",
    "plt.show()"
   ]
  }
 ],
 "metadata": {
  "kernelspec": {
   "display_name": "rapids",
   "language": "python",
   "name": "python3"
  },
  "language_info": {
   "codemirror_mode": {
    "name": "ipython",
    "version": 3
   },
   "file_extension": ".py",
   "mimetype": "text/x-python",
   "name": "python",
   "nbconvert_exporter": "python",
   "pygments_lexer": "ipython3",
   "version": "3.12.8"
  }
 },
 "nbformat": 4,
 "nbformat_minor": 2
}
